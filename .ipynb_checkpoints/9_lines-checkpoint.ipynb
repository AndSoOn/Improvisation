{
 "cells": [
  {
   "cell_type": "code",
   "execution_count": 14,
   "metadata": {
    "collapsed": true
   },
   "outputs": [],
   "source": [
    "from numpy import exp, array, random, dot"
   ]
  },
  {
   "cell_type": "code",
   "execution_count": 15,
   "metadata": {
    "collapsed": true
   },
   "outputs": [],
   "source": [
    "training_set_inputs = array([[0, 0, 1], [1, 1, 1], [1, 0, 1], [0, 1, 1]])"
   ]
  },
  {
   "cell_type": "code",
   "execution_count": 16,
   "metadata": {
    "collapsed": true
   },
   "outputs": [],
   "source": [
    "training_set_outputs = array([[0, 1, 1, 0]]).T"
   ]
  },
  {
   "cell_type": "code",
   "execution_count": 17,
   "metadata": {
    "collapsed": true
   },
   "outputs": [],
   "source": [
    "random.seed(1)"
   ]
  },
  {
   "cell_type": "code",
   "execution_count": 18,
   "metadata": {
    "collapsed": true
   },
   "outputs": [],
   "source": [
    "synaptic_weights = 2 * random.random((3, 1)) - 1"
   ]
  },
  {
   "cell_type": "code",
   "execution_count": 19,
   "metadata": {
    "collapsed": false
   },
   "outputs": [
    {
     "data": {
      "text/plain": [
       "array([[-0.16595599],\n",
       "       [ 0.44064899],\n",
       "       [-0.99977125]])"
      ]
     },
     "execution_count": 19,
     "metadata": {},
     "output_type": "execute_result"
    }
   ],
   "source": [
    "synaptic_weights"
   ]
  },
  {
   "cell_type": "code",
   "execution_count": 20,
   "metadata": {
    "collapsed": false
   },
   "outputs": [],
   "source": [
    "for iter in xrange(10000):\n",
    "    output = 1. / (1 + exp(-(dot(training_set_inputs, synaptic_weights))))\n",
    "    synaptic_weights += dot(training_set_inputs.T, (training_set_outputs - output) * output * (1 - output))"
   ]
  },
  {
   "cell_type": "code",
   "execution_count": 21,
   "metadata": {
    "collapsed": false
   },
   "outputs": [
    {
     "name": "stdout",
     "output_type": "stream",
     "text": [
      "[ 0.99993704]\n"
     ]
    }
   ],
   "source": [
    "print 1 / (1 + exp(-(dot(array([1, 0, 0]), synaptic_weights))))"
   ]
  },
  {
   "cell_type": "code",
   "execution_count": 1,
   "metadata": {
    "collapsed": false
   },
   "outputs": [],
   "source": [
    "import tensorflow as tf"
   ]
  },
  {
   "cell_type": "code",
   "execution_count": 2,
   "metadata": {
    "collapsed": false
   },
   "outputs": [
    {
     "name": "stdout",
     "output_type": "stream",
     "text": [
      "Hello, TensorFlow!\n"
     ]
    }
   ],
   "source": [
    "hello = tf.constant('Hello, TensorFlow!')\n",
    "sess = tf.Session()\n",
    "print(sess.run(hello))\n"
   ]
  },
  {
   "cell_type": "code",
   "execution_count": 7,
   "metadata": {
    "collapsed": false
   },
   "outputs": [
    {
     "name": "stdout",
     "output_type": "stream",
     "text": [
      "Stage 1) Random starting synaptic weights: \n",
      "    Layer 1 (4 neurons, each with 3 inputs): \n",
      "[[-0.16595599  0.44064899 -0.99977125 -0.39533485]\n",
      " [-0.70648822 -0.81532281 -0.62747958 -0.30887855]\n",
      " [-0.20646505  0.07763347 -0.16161097  0.370439  ]]\n",
      "    Layer 2 (1 neuron, with 4 inputs):\n",
      "[[-0.5910955 ]\n",
      " [ 0.75623487]\n",
      " [-0.94522481]\n",
      " [ 0.34093502]]\n",
      "0\n"
     ]
    },
    {
     "ename": "ValueError",
     "evalue": "operands could not be broadcast together with shapes (4,1) (3,1) (4,1) ",
     "output_type": "error",
     "traceback": [
      "\u001b[0;31m---------------------------------------------------------------------------\u001b[0m",
      "\u001b[0;31mValueError\u001b[0m                                Traceback (most recent call last)",
      "\u001b[0;32m<ipython-input-7-bdb32f1e8dac>\u001b[0m in \u001b[0;36m<module>\u001b[0;34m()\u001b[0m\n\u001b[1;32m     69\u001b[0m \u001b[0;34m\u001b[0m\u001b[0m\n\u001b[1;32m     70\u001b[0m \u001b[0;34m\u001b[0m\u001b[0m\n\u001b[0;32m---> 71\u001b[0;31m         \u001b[0mneural_network\u001b[0m\u001b[0;34m.\u001b[0m\u001b[0mtrain\u001b[0m\u001b[0;34m(\u001b[0m\u001b[0mtraining_set_inputs\u001b[0m\u001b[0;34m,\u001b[0m \u001b[0mtraining_set_outputs\u001b[0m\u001b[0;34m,\u001b[0m \u001b[0;36m60\u001b[0m\u001b[0;34m)\u001b[0m\u001b[0;34m\u001b[0m\u001b[0m\n\u001b[0m\u001b[1;32m     72\u001b[0m         \u001b[0;32mprint\u001b[0m \u001b[0;34m\"Stage 2) New synaptic weights after training: \"\u001b[0m\u001b[0;34m\u001b[0m\u001b[0m\n\u001b[1;32m     73\u001b[0m         \u001b[0;32mprint\u001b[0m \u001b[0mneural_network\u001b[0m\u001b[0;34m.\u001b[0m\u001b[0mprint_weights\u001b[0m\u001b[0;34m(\u001b[0m\u001b[0;34m)\u001b[0m\u001b[0;34m\u001b[0m\u001b[0m\n",
      "\u001b[0;32m<ipython-input-7-bdb32f1e8dac>\u001b[0m in \u001b[0;36mtrain\u001b[0;34m(self, training_set_inputs, training_set_outputs, num_iter)\u001b[0m\n\u001b[1;32m     38\u001b[0m \u001b[0;34m\u001b[0m\u001b[0m\n\u001b[1;32m     39\u001b[0m                         \u001b[0mself\u001b[0m\u001b[0;34m.\u001b[0m\u001b[0mlayer1\u001b[0m\u001b[0;34m.\u001b[0m\u001b[0msynaptic_weights\u001b[0m \u001b[0;34m+=\u001b[0m \u001b[0mlayer1_adjustment\u001b[0m\u001b[0;34m\u001b[0m\u001b[0m\n\u001b[0;32m---> 40\u001b[0;31m                         \u001b[0mself\u001b[0m\u001b[0;34m.\u001b[0m\u001b[0mlayer2\u001b[0m\u001b[0;34m.\u001b[0m\u001b[0msynaptic_weights\u001b[0m \u001b[0;34m+=\u001b[0m \u001b[0mlayer2_adjustment\u001b[0m\u001b[0;34m\u001b[0m\u001b[0m\n\u001b[0m\u001b[1;32m     41\u001b[0m \u001b[0;34m\u001b[0m\u001b[0m\n\u001b[1;32m     42\u001b[0m         \u001b[0;32mdef\u001b[0m \u001b[0mthink\u001b[0m\u001b[0;34m(\u001b[0m\u001b[0mself\u001b[0m\u001b[0;34m,\u001b[0m \u001b[0minputs\u001b[0m\u001b[0;34m)\u001b[0m\u001b[0;34m:\u001b[0m\u001b[0;34m\u001b[0m\u001b[0m\n",
      "\u001b[0;31mValueError\u001b[0m: operands could not be broadcast together with shapes (4,1) (3,1) (4,1) "
     ]
    }
   ],
   "source": [
    "from numpy import exp, array, random, dot\n",
    "\n",
    "\n",
    "class NeuronLayer():\n",
    "\t\"\"\"docstring for NeuronLayer\"\"\"\n",
    "\tdef __init__(self, number_of_neurons, number_of_inputs_per_neuron):\n",
    "\t\tself.synaptic_weights = 2 * random.random((number_of_inputs_per_neuron, number_of_neurons)) - 1\n",
    "\t\t\n",
    "\n",
    "class NeuralNetwork():\n",
    "\t\"\"\"docstring for NeuralNetwork\"\"\"\n",
    "\tdef __init__(self, layer1, layer2):\n",
    "\t\tself.layer1 = layer1\n",
    "\t\tself.layer2 = layer2\n",
    "\t\t\n",
    "\n",
    "\n",
    "\tdef __sigmoid(self, x):\n",
    "\t\treturn 1 / (1 + exp(-x))\n",
    "\n",
    "\tdef __sigmoid_derivative(self, x):\n",
    "\t\treturn x * (1 - x)\n",
    "\n",
    "\tdef train(self, training_set_inputs, training_set_outputs, num_iter):\n",
    "\t\tfor i in xrange(num_iter):\n",
    "\n",
    "\t\t\tprint i\n",
    "\t\t\toutput_from_layer1, output_from_layer2 = self.think(training_set_inputs)\n",
    "\n",
    "\t\t\tlayer2_error = training_set_outputs - output_from_layer2\n",
    "\t\t\tlayer2_delta = layer2_error * self.__sigmoid_derivative(output_from_layer2)\n",
    "\n",
    "\t\t\tlayer1_error = layer2_delta.dot(self.layer2.synaptic_weights.T)\n",
    "\t\t\tlayer1_delta = layer1_error * self.__sigmoid_derivative(output_from_layer1)\n",
    "\n",
    "\t\t\tlayer1_adjustment = training_set_inputs.T.dot(layer1_delta)\n",
    "\t\t\tlayer2_adjustment = output_from_layer1.T.dot(layer2_delta)\n",
    "\n",
    "\t\t\tself.layer1.synaptic_weights += layer1_adjustment\n",
    "\t\t\tself.layer2.synaptic_weights += layer2_adjustment\n",
    "\n",
    "\tdef think(self, inputs):\n",
    "\t\toutput_from_layer1 = self.__sigmoid(dot(inputs, self.layer1.synaptic_weights))\n",
    "\t\toutput_from_layer2 = self.__sigmoid(dot(output_from_layer1, self.layer2.synaptic_weights))\n",
    "\n",
    "\t\treturn output_from_layer1, output_from_layer2\n",
    "\n",
    "\tdef print_weights(self):\n",
    "\t\tprint \"    Layer 1 (4 neurons, each with 3 inputs): \"\n",
    "\t\tprint self.layer1.synaptic_weights\n",
    "\t\tprint \"    Layer 2 (1 neuron, with 4 inputs):\"\n",
    "\t\tprint self.layer2.synaptic_weights\n",
    "\n",
    "if __name__ == '__main__':\n",
    "\n",
    "\trandom.seed(1)\n",
    "\n",
    "\tlayer1 = NeuronLayer(4, 3)\n",
    "\tlayer2 = NeuronLayer(1, 4)\n",
    "\n",
    "\tneural_network = NeuralNetwork(layer1, layer2)\n",
    "\n",
    "\tprint \"Stage 1) Random starting synaptic weights: \"\n",
    "\tneural_network.print_weights()\n",
    "\n",
    "\n",
    "\ttraining_set_inputs = array([[0, 0, 1], [0, 1, 1], [1, 0, 1], [0, 1, 0], [1, 0, 0], [1, 1, 1], [0, 0, 0]])\n",
    "\ttraining_set_outputs = array([[0, 1, 1, 1, 1, 0, 0]]).T\n",
    "\n",
    "\n",
    "\tneural_network.train(training_set_inputs, training_set_outputs, 60)\n",
    "\tprint \"Stage 2) New synaptic weights after training: \"\n",
    "\tprint neural_network.print_weights()\n",
    "\n",
    "\t# Test the neural network with a new situation.\n",
    "\tprint \"Considering new situation [1, 1, 0] -> ?: \"\n",
    "\thidden_state, output =  neural_network.think(array([1, 1, 0]))\n",
    "\tprint output\n",
    "\n"
   ]
  },
  {
   "cell_type": "code",
   "execution_count": null,
   "metadata": {
    "collapsed": true
   },
   "outputs": [],
   "source": []
  }
 ],
 "metadata": {
  "anaconda-cloud": {},
  "kernelspec": {
   "display_name": "Python [default]",
   "language": "python",
   "name": "python2"
  },
  "language_info": {
   "codemirror_mode": {
    "name": "ipython",
    "version": 2
   },
   "file_extension": ".py",
   "mimetype": "text/x-python",
   "name": "python",
   "nbconvert_exporter": "python",
   "pygments_lexer": "ipython2",
   "version": "2.7.12"
  }
 },
 "nbformat": 4,
 "nbformat_minor": 1
}
