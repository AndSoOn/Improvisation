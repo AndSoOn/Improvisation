{
 "cells": [
  {
   "cell_type": "code",
   "execution_count": 2,
   "metadata": {
    "collapsed": false
   },
   "outputs": [],
   "source": [
    "from bs4 import BeautifulSoup\n",
    "import requests\n",
    "import pandas as pd\n",
    "import numpy as np\n",
    "import matplotlib.pyplot as plt"
   ]
  },
  {
   "cell_type": "code",
   "execution_count": 3,
   "metadata": {
    "collapsed": true
   },
   "outputs": [],
   "source": [
    "url1 = \"http://lfcstats.co.uk/20162017results.html\"\n",
    "url2 = \"http://lfcstats.co.uk/20162017premierleagueresults.html\"\n",
    "header = {\n",
    "        'User-Agent': 'Mozilla/5.0 (Macintosh; Intel Mac OS X 10_11_2) AppleWebKit/537.36 (KHTML, like Gecko) Chrome/47.0.2526.80 Safari/537.36'\n",
    "    }"
   ]
  },
  {
   "cell_type": "code",
   "execution_count": 5,
   "metadata": {
    "collapsed": false
   },
   "outputs": [
    {
     "name": "stderr",
     "output_type": "stream",
     "text": [
      "/Users/ZHHR/anaconda2/lib/python2.7/site-packages/bs4/__init__.py:181: UserWarning: No parser was explicitly specified, so I'm using the best available HTML parser for this system (\"lxml\"). This usually isn't a problem, but if you run this code on another system, or in a different virtual environment, it may use a different parser and behave differently.\n",
      "\n",
      "The code that caused this warning is on line 174 of the file /Users/ZHHR/anaconda2/lib/python2.7/runpy.py. To get rid of this warning, change code that looks like this:\n",
      "\n",
      " BeautifulSoup([your markup])\n",
      "\n",
      "to this:\n",
      "\n",
      " BeautifulSoup([your markup], \"lxml\")\n",
      "\n",
      "  markup_type=markup_type))\n"
     ]
    }
   ],
   "source": [
    "data = requests.get(url1, headers = header).content\n",
    "soup = BeautifulSoup(data)"
   ]
  },
  {
   "cell_type": "code",
   "execution_count": 6,
   "metadata": {
    "collapsed": false
   },
   "outputs": [],
   "source": [
    "def lfc_crawler_16_17(url):\n",
    "    header = {\n",
    "        'User-Agent': 'Mozilla/5.0 (Macintosh; Intel Mac OS X 10_11_2) AppleWebKit/537.36 (KHTML, like Gecko) Chrome/47.0.2526.80 Safari/537.36'\n",
    "    }\n",
    "    data = requests.get(url, headers = header).content\n",
    "    soup = BeautifulSoup(data)\n",
    "    data_raw = soup.find(\"section\", attrs={\"id\": \"content\"})\n",
    "    items = data_raw.find_all(\"table\")\n",
    "    df = pd.DataFrame(index=np.arange(len(items)), columns=['date','home', 'away', 'score', 'points'])\n",
    "    count = 0\n",
    "    for item in items:\n",
    "        tmp1 = item.find(\"span\", attrs={\"class\": \"style4 style4\"} )\n",
    "        tmp2 = item.find_all('strong')\n",
    "        tmp3 = item.find('a')\n",
    "        if tmp1 and tmp2 and tmp3:\n",
    "            df.date[count] = tmp1.getText()\n",
    "            df.home[count] = tmp2[0].getText()\n",
    "            df.away[count] = tmp2[1].getText()\n",
    "            df.score[count] = tmp3.getText()\n",
    "            count += 1\n",
    "    df = df[df.home.notnull()]\n",
    "    for i in xrange(len(df)):\n",
    "        tmp = df.score[i]\n",
    "        if df.home[i] == 'Liverpool':\n",
    "            if tmp[0] > tmp[2]:\n",
    "                df.points[i] = 3\n",
    "            elif tmp[0] == tmp[2]:\n",
    "                df.points[i] = 1\n",
    "            else:\n",
    "                df.points[i] = 0\n",
    "        else:\n",
    "            if tmp[0] < tmp[2]:\n",
    "                df.points[i] = 3\n",
    "            elif tmp[0] == tmp[2]:\n",
    "                df.points[i] = 1\n",
    "            else:\n",
    "                df.points[i] = 0       \n",
    "    return df"
   ]
  },
  {
   "cell_type": "code",
   "execution_count": 7,
   "metadata": {
    "collapsed": false
   },
   "outputs": [],
   "source": [
    "df_premier_league = lfc_crawler_16_17(url2)\n",
    "df_all_games = lfc_crawler_16_17(url1)"
   ]
  },
  {
   "cell_type": "code",
   "execution_count": 6,
   "metadata": {
    "collapsed": true
   },
   "outputs": [],
   "source": [
    "df_premier_league.to_csv('lfc_pl_16_17.csv')\n",
    "df_all_games.to_csv('lfc_all_16_17.csv')"
   ]
  },
  {
   "cell_type": "code",
   "execution_count": null,
   "metadata": {
    "collapsed": true
   },
   "outputs": [],
   "source": [
    "def DataFilter_liv(df1):\n",
    "    df = df1.copy(deep=True)\n",
    "    df['Vic'] = np.NAN\n",
    "    df['GF'] = np.NAN\n",
    "    df['GA'] = np.NAN\n",
    "    df['GD'] = np.NAN\n",
    "    df['ExpGf'] = np.NAN\n",
    "    df['ExpGa'] = np.NAN\n",
    "    df['ExpGd'] = np.NAN\n",
    "    df['ExpPPM'] = np.NAN\n",
    "    df['ExpRate'] = np.NAN\n",
    "    for i in xrange(len(df)):\n",
    "        if i == 888:\n",
    "            df.score[i] = \"2:2\"\n",
    "        tmp = df.score[i]\n",
    "        #chapter_2.GF[i] = int(tmp[0])\n",
    "        df.loc[i, 'GF'] = int(tmp[0])\n",
    "        df.loc[i, 'GA'] = int(tmp[2])\n",
    "        df.loc[i, 'GD'] = int(tmp[0]) - int(tmp[2])\n",
    "        df.loc[i, 'Vic'] = float((tmp[0] > tmp[2]))\n",
    "    df['ExpGf'] = df.GF.cumsum()\n",
    "    df['ExpGa'] = df.GA.cumsum()\n",
    "    df['ExpGd'] = df.GD.cumsum()\n",
    "    df['ExpPPM'] = df.points.cumsum()\n",
    "    df['ExpRate'] = df.Vic.cumsum()\n",
    "    for i in xrange(len(df)):\n",
    "        df.loc[i, 'ExpGf'] = df['ExpGf'][i] / (i+1)\n",
    "        df.loc[i, 'ExpGa'] = df['ExpGa'][i] / (i+1)\n",
    "        df.loc[i, 'ExpGd'] = df['ExpGd'][i] / (i+1)\n",
    "        df.loc[i, 'ExpPPM'] = df['ExpPPM'][i] / (i+1)\n",
    "        df.loc[i, 'ExpRate'] = df['ExpRate'][i] / (i+1)\n",
    "\n",
    "    return df\n",
    "df00 = pd.read_csv('./data/liverpool-fc/liverpool-fc_1998_1999.csv', index_col=0, dtype={'points': float})\n",
    "df0 = pd.read_csv('./data/liverpool-fc/liverpool-fc_1999_2000.csv', index_col=0, dtype={'points': float})\n",
    "\n",
    "df1 = pd.read_csv('./data/liverpool-fc/liverpool-fc_2000_2001.csv', index_col=0, dtype={'points': float})\n",
    "df2 = pd.read_csv('./data/liverpool-fc/liverpool-fc_2001_2002.csv', index_col=0, dtype={'points': float})\n",
    "df3 = pd.read_csv('./data/liverpool-fc/liverpool-fc_2002_2003.csv', index_col=0, dtype={'points': float})\n",
    "df4 = pd.read_csv('./data/liverpool-fc/liverpool-fc_2003_2004.csv', index_col=0, dtype={'points': float})\n",
    "\n",
    "df5 = pd.read_csv('./data/liverpool-fc/liverpool-fc_2004_2005.csv', index_col=0, dtype={'points': float})\n",
    "df6 = pd.read_csv('./data/liverpool-fc/liverpool-fc_2005_2006.csv', index_col=0, dtype={'points': float})\n",
    "df7 = pd.read_csv('./data/liverpool-fc/liverpool-fc_2006_2007.csv', index_col=0, dtype={'points': float})\n",
    "df8 = pd.read_csv('./data/liverpool-fc/liverpool-fc_2007_2008.csv', index_col=0, dtype={'points': float})\n",
    "\n",
    "df9 = pd.read_csv('./data/liverpool-fc/liverpool-fc_2008_2009.csv', index_col=0, dtype={'points': float})\n",
    "df10 = pd.read_csv('./data/liverpool-fc/liverpool-fc_2009_2010.csv', index_col=0, dtype={'points': float})\n",
    "df11 = pd.read_csv('./data/liverpool-fc/liverpool-fc_2010_2011.csv', index_col=0, dtype={'points': float})\n",
    "df12 = pd.read_csv('./data/liverpool-fc/liverpool-fc_2011_2012.csv', index_col=0, dtype={'points': float})\n",
    "df13 = pd.read_csv('./data/liverpool-fc/liverpool-fc_2012_2013.csv', index_col=0, dtype={'points': float})\n",
    "df14 = pd.read_csv('./data/liverpool-fc/liverpool-fc_2013_2014.csv', index_col=0, dtype={'points': float})\n",
    "df15 = pd.read_csv('./data/liverpool-fc/liverpool-fc_2014_2015.csv', index_col=0, dtype={'points': float})\n",
    "df16 = pd.read_csv('./data/liverpool-fc/liverpool-fc_2015_2016.csv', index_col=0, dtype={'points': float})\n",
    "df17 = pd.read_csv('./data/liverpool-fc/liverpool-fc_2016_2017.csv', index_col=0, dtype={'points': float})\n",
    "df18 = pd.read_csv('./data/liverpool-fc/liverpool-fc_2017_2018.csv', index_col=0, dtype={'points': float})\n",
    "\n",
    "liverpool_raw = pd.concat([df00, df0, df1, df2, df3, df4, df5, df6, df7, df8, df9, df10, df11, \n",
    "                           df12, df13, df14, df15, df16, df17, df18], ignore_index=True)\n",
    "#liverpool_raw = pd.concat([df1, df2, df3, df4, df5,\n",
    "#                          df6, df7, df8, df9, df10, df11], ignore_index=True)\n",
    "\n",
    "liverpool_raw.date = pd.to_datetime(liverpool_raw.date)\n",
    "liverpool_raw = liverpool_raw.sort_values(by='date')\n",
    "#mask = (chapter_4_raw.date >= start_4) & (chapter_4_raw.date <= end_4)\n",
    "\n",
    "#chapter_4_raw = chapter_4_raw.loc[mask]\n",
    "liverpool_raw = liverpool_raw.reset_index(drop=True)"
   ]
  },
  {
   "cell_type": "code",
   "execution_count": null,
   "metadata": {
    "collapsed": true
   },
   "outputs": [],
   "source": [
    "liverpool_raw = DataFilter_liv(liverpool_raw)\n",
    "liverpool_raw.head(5)\n",
    "print len(liverpool_raw)"
   ]
  },
  {
   "cell_type": "code",
   "execution_count": null,
   "metadata": {
    "collapsed": true
   },
   "outputs": [],
   "source": [
    "# chelsea_metric = chapter_4.GA.rolling(window=50).mean()\n",
    "# arsenal_metric = arsenal_raw.GA.rolling(window=50).mean()\n",
    "# manu_metric = manU_raw.Vic.rolling(window=50).mean()\n",
    "liv_metric = liverpool_raw.GD.rolling(window=30).mean()\n",
    "\n",
    "plt.plot(liverpool_raw.date, liv_metric, 'orange')\n",
    "\n",
    "# plt.plot(chapter_4.date, chelsea_metric, 'orange')\n",
    "# plt.plot(arsenal_raw.date, arsenal_metric, color='rosybrown')\n",
    "# plt.plot(manU_raw.date, manu_metric, 'dodgerblue')\n",
    "# plt.ylim([.3, 1.6])\n",
    "# plt.ylabel('GA')\n",
    "# plt.title('Chelsea FC GA(2000-2011)', dict(size=20))\n",
    "\n",
    "# plt.axvline(start_4, c='k', ls='--')\n",
    "# plt.axvline(end_4, c='k', ls='--')\n",
    "\n",
    "# plt.text(start_4-datetime.timedelta(days=890), .4, \"Before Mourinho\", dict(size=18), \n",
    "#              color='black', family='bold')\n",
    "# plt.text(start_4, .4, \"               Mourinho\", dict(size=18), \n",
    "#              color='black', family='bold')\n",
    "# plt.text(end_4, .4, \"                    After Mourinho\", dict(size=18), \n",
    "#              color='black', family='bold')\n",
    "\n",
    "# plt.legend(('Chelsea FC', 'Arsenal FC', 'Manchester United'), shadow=True, loc=(0.01, 0.85))\n",
    "plt.show()"
   ]
  },
  {
   "cell_type": "code",
   "execution_count": null,
   "metadata": {
    "collapsed": true
   },
   "outputs": [],
   "source": []
  }
 ],
 "metadata": {
  "anaconda-cloud": {},
  "kernelspec": {
   "display_name": "Python [conda root]",
   "language": "python",
   "name": "conda-root-py"
  },
  "language_info": {
   "codemirror_mode": {
    "name": "ipython",
    "version": 2
   },
   "file_extension": ".py",
   "mimetype": "text/x-python",
   "name": "python",
   "nbconvert_exporter": "python",
   "pygments_lexer": "ipython2",
   "version": "2.7.12"
  }
 },
 "nbformat": 4,
 "nbformat_minor": 1
}
