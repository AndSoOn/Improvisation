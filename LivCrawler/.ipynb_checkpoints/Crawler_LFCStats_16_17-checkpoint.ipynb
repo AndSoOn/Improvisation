{
 "cells": [
  {
   "cell_type": "code",
   "execution_count": 25,
   "metadata": {
    "collapsed": true
   },
   "outputs": [],
   "source": [
    "from bs4 import BeautifulSoup\n",
    "import requests\n",
    "import pandas as pd\n",
    "import numpy as np\n",
    "import matplotlib.pyplot as plt"
   ]
  },
  {
   "cell_type": "code",
   "execution_count": 81,
   "metadata": {
    "collapsed": true
   },
   "outputs": [],
   "source": [
    "#url = \"http://lfcstats.co.uk/20162017results.html\"\n",
    "url = \"http://lfcstats.co.uk/20162017premierleagueresults.html\"\n",
    "header = {\n",
    "        'User-Agent': 'Mozilla/5.0 (Macintosh; Intel Mac OS X 10_11_2) AppleWebKit/537.36 (KHTML, like Gecko) Chrome/47.0.2526.80 Safari/537.36'\n",
    "    }"
   ]
  },
  {
   "cell_type": "code",
   "execution_count": 82,
   "metadata": {
    "collapsed": false
   },
   "outputs": [],
   "source": [
    "data = requests.get(url, headers = header).content\n",
    "soup = BeautifulSoup(data)"
   ]
  },
  {
   "cell_type": "code",
   "execution_count": 118,
   "metadata": {
    "collapsed": false
   },
   "outputs": [],
   "source": [
    "def lfc_crawler_16_17(url):\n",
    "    header = {\n",
    "        'User-Agent': 'Mozilla/5.0 (Macintosh; Intel Mac OS X 10_11_2) AppleWebKit/537.36 (KHTML, like Gecko) Chrome/47.0.2526.80 Safari/537.36'\n",
    "    }\n",
    "    data = requests.get(url, headers = header).content\n",
    "    soup = BeautifulSoup(data)\n",
    "    data_raw = soup.find(\"section\", attrs={\"id\": \"content\"})\n",
    "    items = data_raw.find_all(\"table\")\n",
    "    df = pd.DataFrame(index=np.arange(len(items)), columns=['date','home', 'away', 'score', 'points'])\n",
    "    count = 0\n",
    "    for item in items:\n",
    "        tmp1 = item.find(\"span\", attrs={\"class\": \"style4 style4\"} )\n",
    "        tmp2 = item.find_all('strong')\n",
    "        tmp3 = item.find('a')\n",
    "        if tmp1 and tmp2 and tmp3:\n",
    "            df.date[count] = tmp1.getText()\n",
    "            df.home[count] = tmp2[0].getText()\n",
    "            df.away[count] = tmp2[1].getText()\n",
    "            df.score[count] = tmp3.getText()\n",
    "            count += 1\n",
    "    df = df[df.home.notnull()]\n",
    "    for i in xrange(len(df)):\n",
    "        tmp = df.score[i]\n",
    "        if df.home[i] == 'Liverpool':\n",
    "            if tmp[0] > tmp[2]:\n",
    "                df.points[i] = 3\n",
    "            elif tmp[0] == tmp[2]:\n",
    "                df.points[i] = 1\n",
    "            else:\n",
    "                df.points[i] = 0\n",
    "        else:\n",
    "            if tmp[0] < tmp[2]:\n",
    "                df.points[i] = 3\n",
    "            elif tmp[0] == tmp[2]:\n",
    "                df.points[i] = 1\n",
    "            else:\n",
    "                df.points[i] = 0       \n",
    "    return df"
   ]
  },
  {
   "cell_type": "code",
   "execution_count": null,
   "metadata": {
    "collapsed": true
   },
   "outputs": [],
   "source": []
  }
 ],
 "metadata": {
  "anaconda-cloud": {},
  "kernelspec": {
   "display_name": "Python [conda root]",
   "language": "python",
   "name": "conda-root-py"
  },
  "language_info": {
   "codemirror_mode": {
    "name": "ipython",
    "version": 2
   },
   "file_extension": ".py",
   "mimetype": "text/x-python",
   "name": "python",
   "nbconvert_exporter": "python",
   "pygments_lexer": "ipython2",
   "version": "2.7.12"
  }
 },
 "nbformat": 4,
 "nbformat_minor": 1
}
