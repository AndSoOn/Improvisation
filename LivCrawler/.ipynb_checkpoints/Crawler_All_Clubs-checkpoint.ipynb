{
 "cells": [
  {
   "cell_type": "code",
   "execution_count": 1,
   "metadata": {
    "collapsed": false
   },
   "outputs": [],
   "source": [
    "from bs4 import BeautifulSoup\n",
    "import requests\n",
    "import pandas as pd\n",
    "import numpy as np\n",
    "import matplotlib.pyplot as plt\n",
    "import re\n",
    "import time\n",
    "import os"
   ]
  },
  {
   "cell_type": "code",
   "execution_count": 2,
   "metadata": {
    "collapsed": false
   },
   "outputs": [],
   "source": [
    "def crawler_clubs(team, year):\n",
    "    pref = \"http://www.worldfootball.net/teams/\"\n",
    "    url = pref + team + \"/\" + str(year) + \"/3/\"\n",
    "    header = {\n",
    "        'User-Agent': 'Mozilla/5.0 (Macintosh; Intel Mac OS X 10_11_2) AppleWebKit/537.36 (KHTML, like Gecko) Chrome/47.0.2526.80 Safari/537.36'\n",
    "    }\n",
    "    data = requests.get(url, headers = header).content\n",
    "    soup = BeautifulSoup(data, 'html.parser')\n",
    "    data_raw = soup.find(\"table\", attrs={\"class\": \"standard_tabelle\"})\n",
    "    items = data_raw.find_all(\"tr\")\n",
    "    df = pd.DataFrame(index=np.arange(len(items)), columns=[\n",
    "            'match_type','date','home', 'away', 'score', 'points'])\n",
    "    count = 0\n",
    "    for item in items:\n",
    "        is_mtype = item.find(\"a\",attrs = {\"href\": re.compile('^\\/all_matches')})\n",
    "        if is_mtype:\n",
    "            mtype = is_mtype.getText()\n",
    "            continue\n",
    "        tmp = item.find_all('td')\n",
    "        if len(tmp) > 6:\n",
    "            a, b, c, d = tmp[1], tmp[3], tmp[5], tmp[6]\n",
    "            if a and b and c and d:\n",
    "                if d.getText() != \"\\n-:- \\n\":\n",
    "                    df.loc[count] = [mtype, a.getText(), b.getText(), \n",
    "                                     c.getText().strip('\\n\\r\\t '), d.getText().strip('\\n\\r\\t '), np.NaN]\n",
    "                    count += 1\n",
    "    \n",
    "    df = df[df.home.notnull()]\n",
    "    for i in xrange(len(df)):\n",
    "        tmp = df.score[i]\n",
    "        if tmp[0] > tmp[2]:\n",
    "            df.points[i] = 3\n",
    "        elif tmp[0] == tmp[2]:\n",
    "            df.points[i] = 1\n",
    "        else:\n",
    "            df.points[i] = 0\n",
    "\n",
    "    return df"
   ]
  },
  {
   "cell_type": "code",
   "execution_count": 18,
   "metadata": {
    "collapsed": false
   },
   "outputs": [],
   "source": [
    "teams1 = [\"arsenal-fc\", \"chelsea-fc\", \"liverpool-fc\",\n",
    "        \"manchester-city\", \"manchester-united\", \"tottenham-hotspur\", \"everton-fc\"]\n",
    "teams2 = [\"real-madrid\", \"fc-barcelona\", \"deportivo-la-coruna\", \n",
    "         \"atletico-madrid\", \"valencia-cf\", \"villarreal-cf\", \"sevilla-fc\", \"athletic-bilbao\"]\n",
    "teams3 = [\"bayern-muenchen\", \"borussia-dortmund\", \"vfb-stuttgart\", \"vfl-wolfsburg\",\n",
    "        \"werder-bremen\", \"bayer-leverkusen\", \"fc-schalke-04\", \"hamburger-sv\"]\n",
    "teams4 = [\"juventus\", \"ssc-napoli\", \"as-roma\", \"lazio-roma\", \"inter\", \"ac-milan\",\n",
    "        \"acf-fiorentina\", \"parma-calcio-1913\"]\n",
    "#teams = [\"\", \"\", \"\", \"\", \"\", \"\"]\n",
    "years = np.arange(1996, 2019)"
   ]
  },
  {
   "cell_type": "code",
   "execution_count": 14,
   "metadata": {
    "collapsed": false
   },
   "outputs": [
    {
     "data": {
      "text/plain": [
       "array([1996, 1997, 1998, 1999, 2000, 2001, 2002, 2003, 2004, 2005, 2006,\n",
       "       2007, 2008, 2009, 2010, 2011, 2012, 2013, 2014, 2015, 2016, 2017,\n",
       "       2018])"
      ]
     },
     "execution_count": 14,
     "metadata": {},
     "output_type": "execute_result"
    }
   ],
   "source": [
    "years"
   ]
  },
  {
   "cell_type": "code",
   "execution_count": 15,
   "metadata": {
    "collapsed": false
   },
   "outputs": [
    {
     "name": "stdout",
     "output_type": "stream",
     "text": [
      "everton-fc\n"
     ]
    }
   ],
   "source": [
    "ti = \"everton-fc\"\n",
    "print ti"
   ]
  },
  {
   "cell_type": "code",
   "execution_count": 16,
   "metadata": {
    "collapsed": false
   },
   "outputs": [
    {
     "name": "stdout",
     "output_type": "stream",
     "text": [
      "1996 1997 1998 1999 2000 2001 2002 2003 2004 2005 2006 2007 2008 2009 2010 2011 2012 2013 2014 2015 2016 2017 2018\n"
     ]
    }
   ],
   "source": [
    "for year in years:\n",
    "    print year,\n",
    "    df_tmp = crawler_clubs(ti, year)\n",
    "    t = np.random.rand(1)*2\n",
    "    time.sleep(t)\n",
    "    directory = 'data/'+ti\n",
    "    if not os.path.exists(directory):\n",
    "        os.makedirs(directory)\n",
    "    address = 'data/'+ti+'/'+ti+'_'+str(year-1)+'_'+str(year)+'.csv'\n",
    "    df_tmp.to_csv(address, encoding='utf-8')"
   ]
  },
  {
   "cell_type": "code",
   "execution_count": 19,
   "metadata": {
    "collapsed": false
   },
   "outputs": [
    {
     "name": "stdout",
     "output_type": "stream",
     "text": [
      "arsenal-fc\n",
      "1996 1997 1998 1999 2000 2001 2002 2003 2004 2005 2006 2007 2008 2009 2010 2011 2012 2013 2014 2015 2016 2017 2018 \n",
      "\n",
      "chelsea-fc\n",
      "1996 1997 1998 1999 2000 2001 2002 2003 2004 2005 2006 2007 2008 2009 2010 2011 2012 2013 2014 2015 2016 2017 2018 \n",
      "\n",
      "liverpool-fc\n",
      "1996 1997 1998 1999 2000 2001 2002 2003 2004 2005 2006 2007 2008 2009 2010 2011 2012 2013 2014 2015 2016 2017 2018 \n",
      "\n",
      "manchester-city\n",
      "1996 1997 1998 1999 2000 2001 2002 2003 2004 2005 2006 2007 2008 2009 2010 2011 2012 2013 2014 2015 2016 2017 2018 \n",
      "\n",
      "manchester-united\n",
      "1996 1997 1998 1999 2000 2001 2002 2003 2004 2005 2006 2007 2008 2009 2010 2011 2012 2013 2014 2015 2016 2017 2018 \n",
      "\n",
      "tottenham-hotspur\n",
      "1996 1997 1998 1999 2000 2001 2002 2003 2004 2005 2006 2007 2008 2009 2010 2011 2012 2013 2014 2015 2016 2017 2018 \n",
      "\n",
      "everton-fc\n",
      "1996 1997 1998 1999 2000 2001 2002 2003 2004 2005 2006 2007 2008 2009 2010 2011 2012 2013 2014 2015 2016 2017 2018 \n",
      "\n"
     ]
    }
   ],
   "source": [
    "for ti in teams1:\n",
    "    print ti\n",
    "    for year in years:\n",
    "        print year,\n",
    "        df_tmp = crawler_clubs(ti, year)\n",
    "        t = np.random.rand(1)\n",
    "        time.sleep(t)\n",
    "        directory = 'data/'+ti\n",
    "        if not os.path.exists(directory):\n",
    "            os.makedirs(directory)\n",
    "        address = 'data/'+ti+'/'+ti+'_'+str(year-1)+'_'+str(year)+'.csv'\n",
    "        df_tmp.to_csv(address, encoding='utf-8')\n",
    "    print \"\\n\""
   ]
  },
  {
   "cell_type": "code",
   "execution_count": null,
   "metadata": {
    "collapsed": true
   },
   "outputs": [],
   "source": []
  }
 ],
 "metadata": {
  "anaconda-cloud": {},
  "kernelspec": {
   "display_name": "Python [conda root]",
   "language": "python",
   "name": "conda-root-py"
  },
  "language_info": {
   "codemirror_mode": {
    "name": "ipython",
    "version": 2
   },
   "file_extension": ".py",
   "mimetype": "text/x-python",
   "name": "python",
   "nbconvert_exporter": "python",
   "pygments_lexer": "ipython2",
   "version": "2.7.12"
  }
 },
 "nbformat": 4,
 "nbformat_minor": 1
}
