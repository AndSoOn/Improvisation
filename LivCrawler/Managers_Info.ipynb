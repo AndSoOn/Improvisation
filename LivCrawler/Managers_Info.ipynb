{
 "cells": [
  {
   "cell_type": "code",
   "execution_count": 1,
   "metadata": {
    "collapsed": true
   },
   "outputs": [],
   "source": [
    "from bs4 import BeautifulSoup\n",
    "import requests\n",
    "import pandas as pd\n",
    "import numpy as np\n",
    "import matplotlib.pyplot as plt\n",
    "import re\n",
    "import time"
   ]
  },
  {
   "cell_type": "code",
   "execution_count": 13,
   "metadata": {
    "collapsed": true
   },
   "outputs": [],
   "source": [
    "manager_names = [\"carlo-ancelotti\", \"alex-ferguson\", \"jose-mourinho\", \"massimiliano-allegri\", \"jupp-heynckes\",  \n",
    "                 \"juergen-klopp\", \"arsene-wenger\", \"pep-guardiola\", \"zinedine-zidane\"]"
   ]
  },
  {
   "cell_type": "code",
   "execution_count": 5,
   "metadata": {
    "collapsed": false
   },
   "outputs": [
    {
     "name": "stdout",
     "output_type": "stream",
     "text": [
      "\n"
     ]
    }
   ],
   "source": [
    "def crawler_manager_teams(manager_name):\n",
    "\n",
    "    pref = \"http://www.worldfootball.net/player_summary/\"\n",
    "    url = pref + manager_name\n",
    "    header = {\n",
    "        'User-Agent': 'Mozilla/5.0 (Macintosh; Intel Mac OS X 10_11_2) AppleWebKit/537.36 (KHTML, like Gecko) Chrome/47.0.2526.80 Safari/537.36'\n",
    "    }\n",
    "    data = requests.get(url, headers = header).content\n",
    "    soup = BeautifulSoup(data, 'html.parser')\n",
    "    data_raw = soup.find(\"table\", attrs={\"class\": \"standard_tabelle\"})\n",
    "    items = data_raw.find_all(\"tr\")\n",
    "    df = pd.DataFrame(index=np.arange(len(items)), columns=[\n",
    "            'start_date','end_date','team', 'role'])\n",
    "\n",
    "\n",
    "    current = items[0].find_all(\"div\")\n",
    "\n",
    "    ab = current[0].getText().strip('\\n\\r\\t ')[-17:]\n",
    "    a, b = ab.split('-')\n",
    "    c = items[0].find_all('b')[0].getText()\n",
    "    d = \"Manager\"\n",
    "    df.loc[0] = [a.rstrip(), b.lstrip(), c, d]\n",
    "\n",
    "    count = 1\n",
    "\n",
    "    for item in items:\n",
    "        tmp = item.find_all('td')\n",
    "        if len(tmp) > 4:\n",
    "            ab = tmp[0].getText().strip('\\n\\r\\t ')\n",
    "            a, b = ab.split('-')\n",
    "            c, d = tmp[2], tmp[4]\n",
    "            df.loc[count] = [a.rstrip(), b.lstrip(), c.getText(), d.getText(),]\n",
    "            count += 1\n",
    "    df = df[df.team.notnull()]\n",
    "    return df"
   ]
  },
  {
   "cell_type": "code",
   "execution_count": 14,
   "metadata": {
    "collapsed": true
   },
   "outputs": [],
   "source": [
    "def crawler_manager_teams_retired(manager_name):\n",
    "\n",
    "    pref = \"http://www.worldfootball.net/player_summary/\"\n",
    "    url = pref + manager_name\n",
    "    header = {\n",
    "        'User-Agent': 'Mozilla/5.0 (Macintosh; Intel Mac OS X 10_11_2) AppleWebKit/537.36 (KHTML, like Gecko) Chrome/47.0.2526.80 Safari/537.36'\n",
    "    }\n",
    "    data = requests.get(url, headers = header).content\n",
    "    soup = BeautifulSoup(data, 'html.parser')\n",
    "    data_raw = soup.find(\"table\", attrs={\"class\": \"standard_tabelle\"})\n",
    "    items = data_raw.find_all(\"tr\")\n",
    "    df = pd.DataFrame(index=np.arange(len(items)), columns=[\n",
    "            'start_date','end_date','team', 'role'])\n",
    "\n",
    "    count = 0\n",
    "\n",
    "    for item in items:\n",
    "        tmp = item.find_all('td')\n",
    "        if len(tmp) > 4:\n",
    "            ab = tmp[0].getText().strip('\\n\\r\\t ')\n",
    "            a, b = ab.split('-')\n",
    "            c, d = tmp[2], tmp[4]\n",
    "            df.loc[count] = [a.rstrip(), b.lstrip(), c.getText(), d.getText(),]\n",
    "            count += 1\n",
    "    df = df[df.team.notnull()]\n",
    "    return df"
   ]
  },
  {
   "cell_type": "code",
   "execution_count": 16,
   "metadata": {
    "collapsed": false
   },
   "outputs": [
    {
     "name": "stdout",
     "output_type": "stream",
     "text": [
      "carlo-ancelotti alex-ferguson jose-mourinho massimiliano-allegri jupp-heynckes juergen-klopp arsene-wenger pep-guardiola zinedine-zidane\n"
     ]
    }
   ],
   "source": [
    "for manager in manager_names:\n",
    "    print manager\n",
    "    retired = [\"carlo-ancelotti\", \"alex-ferguson\"]\n",
    "    if manager in retired:\n",
    "               df_tmp = crawler_manager_teams_retired(manager)\n",
    "                   \n",
    "    else:\n",
    "               df_tmp = crawler_manager_teams(manager)\n",
    "    t = np.random.rand(1)*2\n",
    "    time.sleep(t)\n",
    "    address = 'data/'+'managers'+'/'+manager+'.csv'\n",
    "    df_tmp.to_csv(address, encoding='utf-8')"
   ]
  }
 ],
 "metadata": {
  "anaconda-cloud": {},
  "kernelspec": {
   "display_name": "Python [conda root]",
   "language": "python",
   "name": "conda-root-py"
  },
  "language_info": {
   "codemirror_mode": {
    "name": "ipython",
    "version": 2
   },
   "file_extension": ".py",
   "mimetype": "text/x-python",
   "name": "python",
   "nbconvert_exporter": "python",
   "pygments_lexer": "ipython2",
   "version": "2.7.12"
  }
 },
 "nbformat": 4,
 "nbformat_minor": 1
}
