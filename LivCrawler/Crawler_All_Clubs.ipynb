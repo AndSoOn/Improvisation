{
 "cells": [
  {
   "cell_type": "code",
   "execution_count": 1,
   "metadata": {
    "collapsed": true
   },
   "outputs": [],
   "source": [
    "from bs4 import BeautifulSoup\n",
    "import requests\n",
    "import pandas as pd\n",
    "import numpy as np\n",
    "import matplotlib.pyplot as plt\n",
    "import re\n",
    "import time"
   ]
  },
  {
   "cell_type": "code",
   "execution_count": 2,
   "metadata": {
    "collapsed": false
   },
   "outputs": [],
   "source": [
    "def crawler_clubs(team, year):\n",
    "    pref = \"http://www.worldfootball.net/teams/\"\n",
    "    url = pref + team + \"/\" + str(year) + \"/3/\"\n",
    "    header = {\n",
    "        'User-Agent': 'Mozilla/5.0 (Macintosh; Intel Mac OS X 10_11_2) AppleWebKit/537.36 (KHTML, like Gecko) Chrome/47.0.2526.80 Safari/537.36'\n",
    "    }\n",
    "    data = requests.get(url, headers = header).content\n",
    "    soup = BeautifulSoup(data, 'html.parser')\n",
    "    data_raw = soup.find(\"table\", attrs={\"class\": \"standard_tabelle\"})\n",
    "    items = data_raw.find_all(\"tr\")\n",
    "    df = pd.DataFrame(index=np.arange(len(items)), columns=[\n",
    "            'match_type','date','home', 'away', 'score', 'points'])\n",
    "    count = 0\n",
    "    for item in items:\n",
    "        is_mtype = item.find(\"a\",attrs = {\"href\": re.compile('^\\/all_matches')})\n",
    "        if is_mtype:\n",
    "            mtype = is_mtype.getText()\n",
    "            continue\n",
    "        tmp = item.find_all('td')\n",
    "        if len(tmp) > 6:\n",
    "            a, b, c, d = tmp[1], tmp[3], tmp[5], tmp[6]\n",
    "            if a and b and c and d:\n",
    "                if d.getText() != \"\\n-:- \\n\":\n",
    "                    df.loc[count] = [mtype, a.getText(), b.getText(), \n",
    "                                     c.getText().strip('\\n\\r\\t '), d.getText().strip('\\n\\r\\t '), np.NaN]\n",
    "                    count += 1\n",
    "    \n",
    "    df = df[df.home.notnull()]\n",
    "    for i in xrange(len(df)):\n",
    "        tmp = df.score[i]\n",
    "        if tmp[0] > tmp[2]:\n",
    "            df.points[i] = 3\n",
    "        elif tmp[0] == tmp[2]:\n",
    "            df.points[i] = 1\n",
    "        else:\n",
    "            df.points[i] = 0\n",
    "\n",
    "    return df"
   ]
  },
  {
   "cell_type": "code",
   "execution_count": 5,
   "metadata": {
    "collapsed": false
   },
   "outputs": [],
   "source": [
    "teams = [\"arsenal-fc\", \"chelsea-fc\", \"liverpool-fc\",\n",
    "        \"manchester-city\", \"manchester-united\", \"tottenham-hotspur\"]\n",
    "years = np.arange(1993, 2018)"
   ]
  },
  {
   "cell_type": "code",
   "execution_count": 46,
   "metadata": {
    "collapsed": true
   },
   "outputs": [],
   "source": [
    "ti = teams[2]"
   ]
  },
  {
   "cell_type": "code",
   "execution_count": 39,
   "metadata": {
    "collapsed": true
   },
   "outputs": [],
   "source": [
    "ti = \"real-madrid\""
   ]
  },
  {
   "cell_type": "code",
   "execution_count": 47,
   "metadata": {
    "collapsed": false
   },
   "outputs": [
    {
     "name": "stdout",
     "output_type": "stream",
     "text": [
      "1993 1994 1995 1996 1997 1998 1999 2000 2001 2002 2003 2004 2005 2006 2007 2008 2009 2010 2011 2012 2013 2014 2015 2016 2017\n"
     ]
    }
   ],
   "source": [
    "for year in years:\n",
    "    print year,\n",
    "    df_tmp = crawler_clubs(ti, year)\n",
    "    t = np.random.rand(1)*2\n",
    "    time.sleep(t)\n",
    "    address = 'data/'+ti+'/'+ti+'_'+str(year-1)+'_'+str(year)+'.csv'\n",
    "    df_tmp.to_csv(address, encoding='utf-8')"
   ]
  },
  {
   "cell_type": "code",
   "execution_count": 43,
   "metadata": {
    "collapsed": true
   },
   "outputs": [],
   "source": [
    "klopp_15_16 = pd.read_csv('data/liverpool-fc/liverpool-fc_2015_2016.csv', index_col=0)\n",
    "klopp_16_17 = pd.read_csv('data/liverpool-fc/liverpool-fc_2016_2017.csv', index_col=0)"
   ]
  },
  {
   "cell_type": "code",
   "execution_count": 45,
   "metadata": {
    "collapsed": false
   },
   "outputs": [
    {
     "data": {
      "text/html": [
       "<div>\n",
       "<table border=\"1\" class=\"dataframe\">\n",
       "  <thead>\n",
       "    <tr style=\"text-align: right;\">\n",
       "      <th></th>\n",
       "      <th>match_type</th>\n",
       "      <th>date</th>\n",
       "      <th>home</th>\n",
       "      <th>away</th>\n",
       "      <th>score</th>\n",
       "      <th>points</th>\n",
       "    </tr>\n",
       "  </thead>\n",
       "  <tbody>\n",
       "    <tr>\n",
       "      <th>0</th>\n",
       "      <td>Europa League 2015/2016</td>\n",
       "      <td>17/09/2015</td>\n",
       "      <td>A</td>\n",
       "      <td>Girondins Bordeaux</td>\n",
       "      <td>1:1 (0:0)</td>\n",
       "      <td>1</td>\n",
       "    </tr>\n",
       "    <tr>\n",
       "      <th>1</th>\n",
       "      <td>Europa League 2015/2016</td>\n",
       "      <td>01/10/2015</td>\n",
       "      <td>H</td>\n",
       "      <td>FC Sion</td>\n",
       "      <td>1:1 (1:1)</td>\n",
       "      <td>1</td>\n",
       "    </tr>\n",
       "    <tr>\n",
       "      <th>2</th>\n",
       "      <td>Europa League 2015/2016</td>\n",
       "      <td>22/10/2015</td>\n",
       "      <td>H</td>\n",
       "      <td>Rubin Kazan</td>\n",
       "      <td>1:1 (1:1)</td>\n",
       "      <td>1</td>\n",
       "    </tr>\n",
       "    <tr>\n",
       "      <th>3</th>\n",
       "      <td>Europa League 2015/2016</td>\n",
       "      <td>05/11/2015</td>\n",
       "      <td>A</td>\n",
       "      <td>Rubin Kazan</td>\n",
       "      <td>1:0 (0:0)</td>\n",
       "      <td>3</td>\n",
       "    </tr>\n",
       "    <tr>\n",
       "      <th>4</th>\n",
       "      <td>Europa League 2015/2016</td>\n",
       "      <td>26/11/2015</td>\n",
       "      <td>H</td>\n",
       "      <td>Girondins Bordeaux</td>\n",
       "      <td>2:1 (2:1)</td>\n",
       "      <td>3</td>\n",
       "    </tr>\n",
       "  </tbody>\n",
       "</table>\n",
       "</div>"
      ],
      "text/plain": [
       "                match_type        date home                away      score  \\\n",
       "0  Europa League 2015/2016  17/09/2015    A  Girondins Bordeaux  1:1 (0:0)   \n",
       "1  Europa League 2015/2016  01/10/2015    H             FC Sion  1:1 (1:1)   \n",
       "2  Europa League 2015/2016  22/10/2015    H         Rubin Kazan  1:1 (1:1)   \n",
       "3  Europa League 2015/2016  05/11/2015    A         Rubin Kazan  1:0 (0:0)   \n",
       "4  Europa League 2015/2016  26/11/2015    H  Girondins Bordeaux  2:1 (2:1)   \n",
       "\n",
       "   points  \n",
       "0       1  \n",
       "1       1  \n",
       "2       1  \n",
       "3       3  \n",
       "4       3  "
      ]
     },
     "execution_count": 45,
     "metadata": {},
     "output_type": "execute_result"
    }
   ],
   "source": [
    "klopp_15_16.head()"
   ]
  },
  {
   "cell_type": "code",
   "execution_count": null,
   "metadata": {
    "collapsed": true
   },
   "outputs": [],
   "source": []
  }
 ],
 "metadata": {
  "anaconda-cloud": {},
  "kernelspec": {
   "display_name": "Python [conda root]",
   "language": "python",
   "name": "conda-root-py"
  },
  "language_info": {
   "codemirror_mode": {
    "name": "ipython",
    "version": 2
   },
   "file_extension": ".py",
   "mimetype": "text/x-python",
   "name": "python",
   "nbconvert_exporter": "python",
   "pygments_lexer": "ipython2",
   "version": "2.7.12"
  }
 },
 "nbformat": 4,
 "nbformat_minor": 1
}
