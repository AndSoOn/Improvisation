{
 "cells": [
  {
   "cell_type": "code",
   "execution_count": 1,
   "metadata": {
    "collapsed": true
   },
   "outputs": [],
   "source": [
    "import quandl as q"
   ]
  },
  {
   "cell_type": "code",
   "execution_count": 20,
   "metadata": {
    "collapsed": true
   },
   "outputs": [],
   "source": [
    "%matplotlib inline\n",
    "\n",
    "import numpy as np\n",
    "import pandas as pd\n",
    "import matplotlib.pyplot as plt\n",
    "\n",
    "import plotly.plotly as py  \n",
    "py.sign_in('oldzhangbuythings', 'j8IlrfpZl9qUbRXU3ZQm')\n",
    "# (*) Useful Python/Plotly tools\n",
    "import plotly.tools as tls   \n",
    "\n",
    "# (*) Graph objects to piece together plots\n",
    "from plotly.graph_objs import *"
   ]
  },
  {
   "cell_type": "code",
   "execution_count": 3,
   "metadata": {
    "collapsed": false
   },
   "outputs": [],
   "source": [
    "df_cycle = pd.DataFrame(np.zeros((6, 7)), columns=['start_date', 'end_date', 'Duration', 'rate_start', 'rate_end', 'base_points', 'Pace'])\n",
    "df_cycle.iloc[ 0, :] = ['1983-05-02', '1984-08-21', 16, 8.5, 11.75, 325, 20]\n",
    "df_cycle.iloc[ 1, :] = ['1986-12-16', '1987-09-04', 9, 5.88, 7.25, 138, 15]\n",
    "df_cycle.iloc[ 2, :] = ['1988-03-29', '1989-02-24', 11, 6.5, 9.75, 325, 30]\n",
    "df_cycle.iloc[ 3, :] = ['1994-02-04', '1995-02-01', 12, 3, 6, 300, 25]\n",
    "df_cycle.iloc[ 4, :] = ['1999-06-30', '2000-04-16', 11, 4.75, 6.5, 175, 16]\n",
    "df_cycle.iloc[ 5, :] = ['2004-06-30', '2006-06-29', 24, 1.0, 5.25, 425, 17]"
   ]
  },
  {
   "cell_type": "code",
   "execution_count": 34,
   "metadata": {
    "collapsed": false
   },
   "outputs": [
    {
     "data": {
      "text/html": [
       "<div>\n",
       "<table border=\"1\" class=\"dataframe\">\n",
       "  <thead>\n",
       "    <tr style=\"text-align: right;\">\n",
       "      <th></th>\n",
       "      <th>start_date</th>\n",
       "      <th>end_date</th>\n",
       "      <th>Duration</th>\n",
       "      <th>rate_start</th>\n",
       "      <th>rate_end</th>\n",
       "      <th>base_points</th>\n",
       "      <th>Pace</th>\n",
       "    </tr>\n",
       "  </thead>\n",
       "  <tbody>\n",
       "    <tr>\n",
       "      <th>0</th>\n",
       "      <td>1983-05-02</td>\n",
       "      <td>1984-08-21</td>\n",
       "      <td>16.0</td>\n",
       "      <td>8.50</td>\n",
       "      <td>11.75</td>\n",
       "      <td>325.0</td>\n",
       "      <td>20.0</td>\n",
       "    </tr>\n",
       "    <tr>\n",
       "      <th>1</th>\n",
       "      <td>1986-12-16</td>\n",
       "      <td>1987-09-04</td>\n",
       "      <td>9.0</td>\n",
       "      <td>5.88</td>\n",
       "      <td>7.25</td>\n",
       "      <td>138.0</td>\n",
       "      <td>15.0</td>\n",
       "    </tr>\n",
       "    <tr>\n",
       "      <th>2</th>\n",
       "      <td>1988-03-29</td>\n",
       "      <td>1989-02-24</td>\n",
       "      <td>11.0</td>\n",
       "      <td>6.50</td>\n",
       "      <td>9.75</td>\n",
       "      <td>325.0</td>\n",
       "      <td>30.0</td>\n",
       "    </tr>\n",
       "    <tr>\n",
       "      <th>3</th>\n",
       "      <td>1994-02-04</td>\n",
       "      <td>1995-02-01</td>\n",
       "      <td>12.0</td>\n",
       "      <td>3.00</td>\n",
       "      <td>6.00</td>\n",
       "      <td>300.0</td>\n",
       "      <td>25.0</td>\n",
       "    </tr>\n",
       "    <tr>\n",
       "      <th>4</th>\n",
       "      <td>1999-06-30</td>\n",
       "      <td>2000-04-16</td>\n",
       "      <td>11.0</td>\n",
       "      <td>4.75</td>\n",
       "      <td>6.50</td>\n",
       "      <td>175.0</td>\n",
       "      <td>16.0</td>\n",
       "    </tr>\n",
       "    <tr>\n",
       "      <th>5</th>\n",
       "      <td>2004-06-30</td>\n",
       "      <td>2006-06-29</td>\n",
       "      <td>24.0</td>\n",
       "      <td>1.00</td>\n",
       "      <td>5.25</td>\n",
       "      <td>425.0</td>\n",
       "      <td>17.0</td>\n",
       "    </tr>\n",
       "  </tbody>\n",
       "</table>\n",
       "</div>"
      ],
      "text/plain": [
       "   start_date    end_date  Duration  rate_start  rate_end  base_points  Pace\n",
       "0  1983-05-02  1984-08-21      16.0        8.50     11.75        325.0  20.0\n",
       "1  1986-12-16  1987-09-04       9.0        5.88      7.25        138.0  15.0\n",
       "2  1988-03-29  1989-02-24      11.0        6.50      9.75        325.0  30.0\n",
       "3  1994-02-04  1995-02-01      12.0        3.00      6.00        300.0  25.0\n",
       "4  1999-06-30  2000-04-16      11.0        4.75      6.50        175.0  16.0\n",
       "5  2004-06-30  2006-06-29      24.0        1.00      5.25        425.0  17.0"
      ]
     },
     "execution_count": 34,
     "metadata": {},
     "output_type": "execute_result"
    }
   ],
   "source": [
    "df_cycle"
   ]
  },
  {
   "cell_type": "code",
   "execution_count": 4,
   "metadata": {
    "collapsed": false
   },
   "outputs": [
    {
     "data": {
      "text/html": [
       "<div>\n",
       "<table border=\"1\" class=\"dataframe\">\n",
       "  <thead>\n",
       "    <tr style=\"text-align: right;\">\n",
       "      <th></th>\n",
       "      <th>DATE</th>\n",
       "      <th>FEDFUNDS</th>\n",
       "    </tr>\n",
       "  </thead>\n",
       "  <tbody>\n",
       "    <tr>\n",
       "      <th>748</th>\n",
       "      <td>2016-11-01</td>\n",
       "      <td>0.41</td>\n",
       "    </tr>\n",
       "    <tr>\n",
       "      <th>749</th>\n",
       "      <td>2016-12-01</td>\n",
       "      <td>0.54</td>\n",
       "    </tr>\n",
       "    <tr>\n",
       "      <th>750</th>\n",
       "      <td>2017-01-01</td>\n",
       "      <td>0.65</td>\n",
       "    </tr>\n",
       "    <tr>\n",
       "      <th>751</th>\n",
       "      <td>2017-02-01</td>\n",
       "      <td>0.66</td>\n",
       "    </tr>\n",
       "    <tr>\n",
       "      <th>752</th>\n",
       "      <td>2017-03-01</td>\n",
       "      <td>0.66</td>\n",
       "    </tr>\n",
       "  </tbody>\n",
       "</table>\n",
       "</div>"
      ],
      "text/plain": [
       "          DATE  FEDFUNDS\n",
       "748 2016-11-01      0.41\n",
       "749 2016-12-01      0.54\n",
       "750 2017-01-01      0.65\n",
       "751 2017-02-01      0.66\n",
       "752 2017-03-01      0.66"
      ]
     },
     "execution_count": 4,
     "metadata": {},
     "output_type": "execute_result"
    }
   ],
   "source": [
    "fed_rate_raw = pd.read_csv('data/EFFR.csv')\n",
    "fed_rate_raw.loc[len(fed_rate_raw)] = ['2017-03-01', 0.66]\n",
    "fed_rate_raw.DATE = pd.to_datetime(fed_rate_raw.DATE)\n",
    "fed_rate_raw.tail()"
   ]
  },
  {
   "cell_type": "code",
   "execution_count": 5,
   "metadata": {
    "collapsed": false
   },
   "outputs": [
    {
     "data": {
      "text/html": [
       "<div>\n",
       "<table border=\"1\" class=\"dataframe\">\n",
       "  <thead>\n",
       "    <tr style=\"text-align: right;\">\n",
       "      <th></th>\n",
       "      <th>DATE</th>\n",
       "      <th>GDP</th>\n",
       "    </tr>\n",
       "  </thead>\n",
       "  <tbody>\n",
       "    <tr>\n",
       "      <th>275</th>\n",
       "      <td>2015-10-01</td>\n",
       "      <td>16490.7</td>\n",
       "    </tr>\n",
       "    <tr>\n",
       "      <th>276</th>\n",
       "      <td>2016-01-01</td>\n",
       "      <td>16525.0</td>\n",
       "    </tr>\n",
       "    <tr>\n",
       "      <th>277</th>\n",
       "      <td>2016-04-01</td>\n",
       "      <td>16583.1</td>\n",
       "    </tr>\n",
       "    <tr>\n",
       "      <th>278</th>\n",
       "      <td>2016-07-01</td>\n",
       "      <td>16727.0</td>\n",
       "    </tr>\n",
       "    <tr>\n",
       "      <th>279</th>\n",
       "      <td>2016-10-01</td>\n",
       "      <td>16804.1</td>\n",
       "    </tr>\n",
       "  </tbody>\n",
       "</table>\n",
       "</div>"
      ],
      "text/plain": [
       "          DATE      GDP\n",
       "275 2015-10-01  16490.7\n",
       "276 2016-01-01  16525.0\n",
       "277 2016-04-01  16583.1\n",
       "278 2016-07-01  16727.0\n",
       "279 2016-10-01  16804.1"
      ]
     },
     "execution_count": 5,
     "metadata": {},
     "output_type": "execute_result"
    }
   ],
   "source": [
    "gdp_raw = pd.read_csv('data/gdp_real.csv')\n",
    "#gdp_raw = pd.read_csv('data/gdp_real_rate.csv')\n",
    "gdp_raw.columns = ['DATE', 'GDP']\n",
    "gdp_raw.DATE = pd.to_datetime(gdp_raw.DATE)\n",
    "gdp_raw.tail()"
   ]
  },
  {
   "cell_type": "code",
   "execution_count": 6,
   "metadata": {
    "collapsed": false
   },
   "outputs": [],
   "source": [
    "mark_1 = fed_rate_raw[fed_rate_raw.DATE == '1978-01-01'].index[0]\n",
    "mark_2 = gdp_raw[gdp_raw.DATE == '1978-01-01'].index[0]\n",
    "df_plot = fed_rate_raw.iloc[mark_1:, :]\n",
    "gdp_plot = gdp_raw.iloc[mark_2:, :]"
   ]
  },
  {
   "cell_type": "code",
   "execution_count": 7,
   "metadata": {
    "collapsed": true
   },
   "outputs": [],
   "source": [
    "sp500_raw = q.get('YAHOO/INDEX_GSPC')\n",
    "vix_raw = q.get('YAHOO/INDEX_VIX', collapse='monthly')\n",
    "dji_raw = q.get('YAHOO/INDEX_DJI')"
   ]
  },
  {
   "cell_type": "code",
   "execution_count": 17,
   "metadata": {
    "collapsed": false
   },
   "outputs": [
    {
     "data": {
      "text/html": [
       "<div>\n",
       "<table border=\"1\" class=\"dataframe\">\n",
       "  <thead>\n",
       "    <tr style=\"text-align: right;\">\n",
       "      <th></th>\n",
       "      <th>Open</th>\n",
       "      <th>High</th>\n",
       "      <th>Low</th>\n",
       "      <th>Close</th>\n",
       "      <th>Volume</th>\n",
       "      <th>Adjusted Close</th>\n",
       "    </tr>\n",
       "    <tr>\n",
       "      <th>Date</th>\n",
       "      <th></th>\n",
       "      <th></th>\n",
       "      <th></th>\n",
       "      <th></th>\n",
       "      <th></th>\n",
       "      <th></th>\n",
       "    </tr>\n",
       "  </thead>\n",
       "  <tbody>\n",
       "    <tr>\n",
       "      <th>1990-01-31</th>\n",
       "      <td>25.360001</td>\n",
       "      <td>25.360001</td>\n",
       "      <td>25.360001</td>\n",
       "      <td>25.360001</td>\n",
       "      <td>0.0</td>\n",
       "      <td>25.360001</td>\n",
       "    </tr>\n",
       "    <tr>\n",
       "      <th>1990-02-28</th>\n",
       "      <td>21.990000</td>\n",
       "      <td>21.990000</td>\n",
       "      <td>21.990000</td>\n",
       "      <td>21.990000</td>\n",
       "      <td>0.0</td>\n",
       "      <td>21.990000</td>\n",
       "    </tr>\n",
       "    <tr>\n",
       "      <th>1990-03-31</th>\n",
       "      <td>19.730000</td>\n",
       "      <td>19.730000</td>\n",
       "      <td>19.730000</td>\n",
       "      <td>19.730000</td>\n",
       "      <td>0.0</td>\n",
       "      <td>19.730000</td>\n",
       "    </tr>\n",
       "  </tbody>\n",
       "</table>\n",
       "</div>"
      ],
      "text/plain": [
       "                 Open       High        Low      Close  Volume  Adjusted Close\n",
       "Date                                                                          \n",
       "1990-01-31  25.360001  25.360001  25.360001  25.360001     0.0       25.360001\n",
       "1990-02-28  21.990000  21.990000  21.990000  21.990000     0.0       21.990000\n",
       "1990-03-31  19.730000  19.730000  19.730000  19.730000     0.0       19.730000"
      ]
     },
     "execution_count": 17,
     "metadata": {},
     "output_type": "execute_result"
    }
   ],
   "source": [
    "mask_1 = (sp500_raw.index >= '1978-01-03')\n",
    "sp500 = sp500_raw[mask_1]\n",
    "vix = vix_raw[vix_raw.index >= '1978-01-03']\n",
    "dji = dji_raw[dji_raw.index >= '1978-01-03']\n",
    "vix.head(3)"
   ]
  },
  {
   "cell_type": "code",
   "execution_count": 33,
   "metadata": {
    "collapsed": false
   },
   "outputs": [
    {
     "data": {
      "text/plain": [
       "[<matplotlib.lines.Line2D at 0x11dc97350>]"
      ]
     },
     "execution_count": 33,
     "metadata": {},
     "output_type": "execute_result"
    },
    {
     "data": {
      "image/png": "[encoded data removed]",
      "text/plain": [
       "<matplotlib.figure.Figure at 0x11ce01b10>"
      ]
     },
     "metadata": {},
     "output_type": "display_data"
    }
   ],
   "source": [
    "fig, ax1 = plt.subplots()\n",
    "fig.set_size_inches(16, 8)\n",
    "ax1.plot(df_plot.DATE, df_plot.FEDFUNDS)\n",
    "for i in xrange(6):\n",
    "    ax1.axvspan(df_cycle.iloc[i, 0], df_cycle.iloc[i, 1], alpha=0.1, color='grey')\n",
    "ax2 = ax1.twinx()\n",
    "#ax2.plot(sp500.index, sp500['Adjusted Close'], 'r')\n",
    "#ax2.plot(dji.index, dji['Adjusted Close'], 'r')    \n",
    "#ax2.plot(vix.index, vix['Adjusted Close'], 'r')    \n",
    "ax2.plot(gdp_plot.DATE, gdp_plot.GDP, 'r')    \n",
    "#py.iplot_mpl(fig, filename='fed_rates_hike')"
   ]
  },
  {
   "cell_type": "code",
   "execution_count": null,
   "metadata": {
    "collapsed": true
   },
   "outputs": [],
   "source": []
  }
 ],
 "metadata": {
  "anaconda-cloud": {},
  "kernelspec": {
   "display_name": "Python [default]",
   "language": "python",
   "name": "python2"
  },
  "language_info": {
   "codemirror_mode": {
    "name": "ipython",
    "version": 2
   },
   "file_extension": ".py",
   "mimetype": "text/x-python",
   "name": "python",
   "nbconvert_exporter": "python",
   "pygments_lexer": "ipython2",
   "version": "2.7.12"
  }
 },
 "nbformat": 4,
 "nbformat_minor": 1
}
