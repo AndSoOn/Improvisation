{
 "cells": [
  {
   "cell_type": "code",
   "execution_count": 14,
   "metadata": {
    "collapsed": true
   },
   "outputs": [],
   "source": [
    "from IPython.display import Image"
   ]
  },
  {
   "cell_type": "markdown",
   "metadata": {},
   "source": [
    "## 概览"
   ]
  },
  {
   "cell_type": "markdown",
   "metadata": {},
   "source": [
    "总需求指的是经济中的C和I，即消费和投资会形成的对社会中产品和服务的总需求，即国民用货币去购买产品和服务，企业用资金去购买设备和原材料，政府向社会购买劳务和产品来支持基础设施建设等等。而总供给是指社会中所生产出的最终产品和劳务的数量的总和。\n",
    "\n",
    "当总需求和总供给相等时，一国的经济处于出清状态。目前宏观经济学有一个默认共识，即短期内由于价格粘性的存在，总需求可以影响总供给。在长期中，总供给由投入的生产要素和技术决定，位于所谓的产出的自然水平上，不受总需求的影响。\n",
    "\n",
    "然而总供给和总需求不相匹配的矛盾在私有制经济框架下是无法避免的，具体表现为经济周期的不断更迭。"
   ]
  },
  {
   "cell_type": "markdown",
   "metadata": {},
   "source": [
    "## 缺口的衡量"
   ]
  },
  {
   "cell_type": "markdown",
   "metadata": {},
   "source": [
    "总供给和总需求的缺口，虽然很难找到准确的办法来衡量，但还是有办法找到值得参考的侧面指标。产出缺口可以作为其中一个观测指标，衡量的是实际产出与潜在产出之间的差值。但这个指标是每季度公布一次，而且带有较强的主观性。与此同时，美联储每个月的月中会发布工业产出(INDPRO)以及产出利用率(TCU)的数据。这组数据的统计口径涵盖了制造业、矿业、电力以及能源，涉及总供给的各个方面。数据本身体现出很明显的周期特性，而且产出利用率长期下滑的趋势与我们的现实经验是吻合的。总需求的疲软导致了大量的生产资源闲置。\n"
   ]
  },
  {
   "cell_type": "markdown",
   "metadata": {},
   "source": [
    "            Capacity Utilization: Total Industry(1968-2017) \n",
    "![alt text](./figures/TCU.png \"US\")"
   ]
  },
  {
   "cell_type": "markdown",
   "metadata": {},
   "source": [
    "## 美国经济总体结构"
   ]
  },
  {
   "cell_type": "markdown",
   "metadata": {},
   "source": [
    "对于美国经济运行情况的研究，首先要从美国经济结构位基本出发点。美国经济结构从 GDP 来看，包括消费、投资、净出口和政府支出四个部分。根据 BEA(Bureau of Economic Analysis)2016年的数据，消费占比达 69% 、私人投资占比 16%、 政府投资占比18% 、 净出口 -3% 。\n",
    "\n",
    "毫无疑问，消费支出占国内生产总值的 2/3 以上，个人消费在美国经济处于绝对的核心地位。消费者支出是拉动美国 GDP 增长的基础和关键驱动力。BEA 每月底公布的个人消费支出(PCE)是衡量美国居民消费能力的核心指标。\n",
    "\n",
    "需要注意的是，美国个人消费支出是产出缺口和 GDP 的领先指标，但由于个人消费支出于每月底公布，而产出缺口的数据于月中公布，所以使用产出缺口作为观测美国宏观经济运行的核心指标更具有时效性。"
   ]
  },
  {
   "cell_type": "markdown",
   "metadata": {},
   "source": [
    "                    美国 GDP 历年构成(1929-2011) \n",
    "![alt text](./figures/US-GDP-Components-1929-2011.jpg)"
   ]
  },
  {
   "cell_type": "markdown",
   "metadata": {},
   "source": [
    "## 收入和消费"
   ]
  },
  {
   "cell_type": "markdown",
   "metadata": {},
   "source": [
    "                美国个人收入和个人可支配收入增长趋势(2006-2017) \n",
    "![alt text](./figures/pi_di_comp.png)"
   ]
  },
  {
   "cell_type": "markdown",
   "metadata": {},
   "source": [
    "从上图可以看出，在2008年次贷危机之后的复苏期内，一个显著的现象是美国家庭的个人可支配收入的复苏速度落后于个人收入的复苏。如果我们把个人真实消费支出和小时工资的中位数也纳入比较，那么如下图所示，这次复苏的实际情况是很骨感的。小时工资在过去的几十年间是实质停滞的，这次的复苏并没有修复大部分美国家庭的资产负债表，所以大选时美国社会的分裂是有很深刻的现实依据的。"
   ]
  },
  {
   "cell_type": "markdown",
   "metadata": {},
   "source": [
    "                美国个人收入/个人可支配收入/小时工资中位数比较(2000-2017) \n",
    "![alt text](./figures/pi_pce_wage.png)"
   ]
  },
  {
   "cell_type": "markdown",
   "metadata": {},
   "source": [
    "## 美国家庭负债结构的变化"
   ]
  },
  {
   "cell_type": "markdown",
   "metadata": {},
   "source": [
    "根据纽约联储的数据，如下图所示，08年之后，美国私人部门负债的结构出现的新变化是汽车贷款和学贷的增长。"
   ]
  },
  {
   "cell_type": "markdown",
   "metadata": {},
   "source": [
    "                        美国家庭负债构成(除房贷外) \n",
    "![alt text](./figures/FRBNY_NONHOUSING_DEBT.png)"
   ]
  },
  {
   "cell_type": "markdown",
   "metadata": {},
   "source": [
    "\n",
    "其中学贷的增长最为显著，目前已经成为美国社会的一个严重问题，有失控的迹象。根据美国教育部的数据截止2016年底一共有4240万美国人欠着学贷，学贷总额已经超过$1.3 trillion，这一金额已经超过了08年之前次级贷款的数量。2016年底，420万个借款者处于违约状态，而2015年这一数据仅为360万。但是和当年的次级贷款不同之处是，金融市场并没有将学贷像次级贷款一样打包做成衍生品，因此不太可能引发资本市场的系统性风险。然而美国高校体系的改革短时间看来毫无可能，这些贷款最终还会由纳税人买单，会成为政府未来非常沉重的负担，而且道义上无法推卸。此次大选中Bernie Sanders的免费上大学竞选口号获得了大批年轻美国人拥护有很深刻的现实依据。同时由下图可以看出，学生贷款的恶化是从08年开始的。"
   ]
  },
  {
   "cell_type": "markdown",
   "metadata": {},
   "source": [
    "                        联邦政府持有的学贷总额（1991-2017） \n",
    "![alt text](./figures/student_loan.png)"
   ]
  },
  {
   "cell_type": "markdown",
   "metadata": {},
   "source": [
    "与此同时，UBS和 S&P 最新的数据显示汽车贷款超过60天的违约率最近已经上升到次贷危机以后的最高值，见下图。"
   ]
  },
  {
   "cell_type": "markdown",
   "metadata": {},
   "source": [
    "                        汽车贷款的违约率 \n",
    "![alt text](./figures/UBS-Credit.png)"
   ]
  },
  {
   "cell_type": "markdown",
   "metadata": {},
   "source": [
    "## 利率及货币市场"
   ]
  },
  {
   "cell_type": "markdown",
   "metadata": {},
   "source": [
    "                            美国国债期限利差 T10Y2Y \n",
    "![alt text](./figures/T10Y2Y_US.png)"
   ]
  },
  {
   "cell_type": "markdown",
   "metadata": {},
   "source": [
    "\n",
    "T10Y2Y 过去一般被认为是衰退的一个预测指标，历史上在T10Y2Y降到0以下时，美国经济在未来的6-12个月大概率进入衰退。然而在2008年之后，美国的货币政策已经进入了实质性的流动性陷阱.参考日本的经验（如下图），在货币政策进入流动性陷阱以后，经济仍有可能进入衰退，因此T10Y2Y 可能无法作为今后的指标。"
   ]
  },
  {
   "cell_type": "markdown",
   "metadata": {},
   "source": [
    "                            日本国债期限利差: \n",
    "![alt text](./figures/T10Y1Y_JAPAN.png \"US\")"
   ]
  },
  {
   "cell_type": "markdown",
   "metadata": {},
   "source": [
    "此外，伯南克2014年初卸任，在卸任前的2013年12月，伯南克结束了其一手策划的量化宽松政策。耶伦的任期将在2018年一月结束，在其任期结束前开始美联储的缩表将是大概率事件。\n",
    "\n",
    "目前美国政府的困境是，所有人都对现实制度不满，但各种思潮都在走向极端思潮。自由主义+资本主义最辉煌的时代已经过去了，然而历史终究要向前走。美国经济正在从一次质量不高的复苏走向过热，中国经济正在从衰退走向复苏，这是目前全球的两大周期。\n",
    "\n",
    "特朗普政府最重要的三个政策，医改，税改，基建。目前看来医改已经遇到极大阻力，然而特朗普仍旧将其放在第一位而不是将税改提前，这个在策略上已经犯了错误。税改方面，考虑医改的失败，若特朗普政府决定追求中性的税改，那么最终税改很有可能像医改法案那样流产。因此政府的实际收入将会减少。在这种情况下，大规模赤字的预算获得通过的可能性非常低。"
   ]
  },
  {
   "cell_type": "markdown",
   "metadata": {},
   "source": [
    "                            美国联邦政府历年财政赤字: \n",
    "![alt text](./figures/deficit.png \"US\")"
   ]
  },
  {
   "cell_type": "markdown",
   "metadata": {
    "collapsed": true
   },
   "source": [
    "\n",
    "\n",
    "\n",
    "\n",
    "# 周期定量分析\n",
    "\n",
    "\n",
    "    1. 中周期和短周期的模式，产出缺口，产能利用率\n",
    "\n",
    "\n",
    "    2. 领先指标和确认指标，路径演化\n",
    "\n",
    "\n",
    "    3. 当前所处位置的确认"
   ]
  },
  {
   "cell_type": "code",
   "execution_count": null,
   "metadata": {
    "collapsed": true
   },
   "outputs": [],
   "source": []
  }
 ],
 "metadata": {
  "anaconda-cloud": {},
  "kernelspec": {
   "display_name": "Python [conda root]",
   "language": "python",
   "name": "conda-root-py"
  },
  "language_info": {
   "codemirror_mode": {
    "name": "ipython",
    "version": 2
   },
   "file_extension": ".py",
   "mimetype": "text/x-python",
   "name": "python",
   "nbconvert_exporter": "python",
   "pygments_lexer": "ipython2",
   "version": "2.7.12"
  }
 },
 "nbformat": 4,
 "nbformat_minor": 1
}
