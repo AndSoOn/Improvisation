{
 "cells": [
  {
   "cell_type": "code",
   "execution_count": 1,
   "metadata": {
    "collapsed": true
   },
   "outputs": [],
   "source": [
    "import quandl as q"
   ]
  },
  {
   "cell_type": "code",
   "execution_count": 2,
   "metadata": {
    "collapsed": true
   },
   "outputs": [],
   "source": [
    "%matplotlib inline\n",
    "\n",
    "import numpy as np\n",
    "import pandas as pd\n",
    "import matplotlib.pyplot as plt\n",
    "\n",
    "import plotly.plotly as py  \n",
    "py.sign_in('oldzhangbuythings', 'j8IlrfpZl9qUbRXU3ZQm')\n",
    "# (*) Useful Python/Plotly tools\n",
    "import plotly.tools as tls   \n",
    "\n",
    "# (*) Graph objects to piece together plots\n",
    "from plotly.graph_objs import *"
   ]
  },
  {
   "cell_type": "code",
   "execution_count": 16,
   "metadata": {
    "collapsed": true
   },
   "outputs": [],
   "source": [
    "rec = pd.DataFrame(np.zeros((5, 6)), columns=['start_date', 'end_date', 'Duration', 'peak_unemployment', 'gdp_decline', 'Characteristics'])"
   ]
  },
  {
   "cell_type": "code",
   "execution_count": 15,
   "metadata": {
    "collapsed": false
   },
   "outputs": [
    {
     "data": {
      "text/html": [
       "<div>\n",
       "<table border=\"1\" class=\"dataframe\">\n",
       "  <thead>\n",
       "    <tr style=\"text-align: right;\">\n",
       "      <th></th>\n",
       "      <th>Name</th>\n",
       "      <th>Dates</th>\n",
       "      <th>Duration (months)</th>\n",
       "      <th>Time since previous recession (months)</th>\n",
       "      <th>Peak unemploy­ment</th>\n",
       "      <th>GDP decline (peak to trough)</th>\n",
       "      <th>Characteristics</th>\n",
       "    </tr>\n",
       "  </thead>\n",
       "  <tbody>\n",
       "    <tr>\n",
       "      <th>0</th>\n",
       "      <td>Great Depression</td>\n",
       "      <td>Aug 1929 –Mar 1933</td>\n",
       "      <td>3 years7 months</td>\n",
       "      <td>1 year9 months</td>\n",
       "      <td>24.9%[31](1933)</td>\n",
       "      <td>−26.7%</td>\n",
       "      <td>Stock markets crashed worldwide. A banking col...</td>\n",
       "    </tr>\n",
       "    <tr>\n",
       "      <th>1</th>\n",
       "      <td>Recession of 1937–1938</td>\n",
       "      <td>May 1937 –June 1938</td>\n",
       "      <td>1 year1 month</td>\n",
       "      <td>4 years2 months</td>\n",
       "      <td>19.0%[32](1938)</td>\n",
       "      <td>−18.2%</td>\n",
       "      <td>The Recession of 1937 is only considered minor...</td>\n",
       "    </tr>\n",
       "    <tr>\n",
       "      <th>2</th>\n",
       "      <td>Recession of 1945</td>\n",
       "      <td>Feb–Oct 1945</td>\n",
       "      <td>8 months</td>\n",
       "      <td>6 years8 months</td>\n",
       "      <td>5.2%[32](1946)</td>\n",
       "      <td>−12.7%</td>\n",
       "      <td>The decline in government spending at the end ...</td>\n",
       "    </tr>\n",
       "    <tr>\n",
       "      <th>3</th>\n",
       "      <td>Recession of 1949</td>\n",
       "      <td>Nov 1948 –Oct 1949</td>\n",
       "      <td>11 months</td>\n",
       "      <td>3 years1 month</td>\n",
       "      <td>7.9%(Oct 1949)</td>\n",
       "      <td>−1.7%</td>\n",
       "      <td>The 1948 recession was a brief economic downtu...</td>\n",
       "    </tr>\n",
       "    <tr>\n",
       "      <th>4</th>\n",
       "      <td>Recession of 1953</td>\n",
       "      <td>July 1953 –May 1954</td>\n",
       "      <td>10 months</td>\n",
       "      <td>3 years9 months</td>\n",
       "      <td>6.1%(Sep 1954)</td>\n",
       "      <td>−2.6%</td>\n",
       "      <td>After a post-Korean War inflationary period, m...</td>\n",
       "    </tr>\n",
       "    <tr>\n",
       "      <th>5</th>\n",
       "      <td>Recession of 1958</td>\n",
       "      <td>Aug 1957 –April 1958</td>\n",
       "      <td>8 months</td>\n",
       "      <td>3 years3 months</td>\n",
       "      <td>7.5%(July 1958)</td>\n",
       "      <td>−3.7%</td>\n",
       "      <td>Monetary policy was tightened during the two y...</td>\n",
       "    </tr>\n",
       "    <tr>\n",
       "      <th>6</th>\n",
       "      <td>Recession of 1960–61</td>\n",
       "      <td>Apr 1960 –Feb 1961</td>\n",
       "      <td>10 months</td>\n",
       "      <td>2 years</td>\n",
       "      <td>7.1%(May 1961)</td>\n",
       "      <td>−1.6%</td>\n",
       "      <td>Another primarily monetary recession occurred ...</td>\n",
       "    </tr>\n",
       "    <tr>\n",
       "      <th>7</th>\n",
       "      <td>Recession of 1969–70</td>\n",
       "      <td>Dec 1969 –Nov 1970</td>\n",
       "      <td>11 months</td>\n",
       "      <td>8 years10 months</td>\n",
       "      <td>6.1%(Dec 1970)</td>\n",
       "      <td>−0.6%</td>\n",
       "      <td>The relatively mild 1969 recession followed a ...</td>\n",
       "    </tr>\n",
       "    <tr>\n",
       "      <th>8</th>\n",
       "      <td>1973–75 recession</td>\n",
       "      <td>Nov 1973 –Mar 1975</td>\n",
       "      <td>1 year4 months</td>\n",
       "      <td>3 years</td>\n",
       "      <td>9.0%(May 1975)</td>\n",
       "      <td>−3.2%</td>\n",
       "      <td>A quadrupling of oil prices by OPEC coupled wi...</td>\n",
       "    </tr>\n",
       "    <tr>\n",
       "      <th>9</th>\n",
       "      <td>1980 recession</td>\n",
       "      <td>Jan–July 1980</td>\n",
       "      <td>6 months</td>\n",
       "      <td>4 years10 months</td>\n",
       "      <td>7.8%(July 1980)</td>\n",
       "      <td>−2.2%</td>\n",
       "      <td>The NBER considers a very short recession to h...</td>\n",
       "    </tr>\n",
       "    <tr>\n",
       "      <th>10</th>\n",
       "      <td>Early 1980s recession</td>\n",
       "      <td>July 1981 –Nov 1982</td>\n",
       "      <td>1 year4 months</td>\n",
       "      <td>1 year</td>\n",
       "      <td>10.8%(Nov 1982)</td>\n",
       "      <td>−2.7%</td>\n",
       "      <td>The Iranian Revolution sharply increased the p...</td>\n",
       "    </tr>\n",
       "    <tr>\n",
       "      <th>11</th>\n",
       "      <td>Early 1990s recession in the United States</td>\n",
       "      <td>July 1990 –Mar 1991</td>\n",
       "      <td>8 months</td>\n",
       "      <td>7 years8 months</td>\n",
       "      <td>7.8%(June 1992)</td>\n",
       "      <td>−1.4%</td>\n",
       "      <td>After the lengthy peacetime expansion of the 1...</td>\n",
       "    </tr>\n",
       "    <tr>\n",
       "      <th>12</th>\n",
       "      <td>Early 2000s recession</td>\n",
       "      <td>March 2001–Nov 2001</td>\n",
       "      <td>8 months</td>\n",
       "      <td>10 years</td>\n",
       "      <td>6.3%(June 2003)</td>\n",
       "      <td>−0.3%</td>\n",
       "      <td>The 1990s were the longest period of growth in...</td>\n",
       "    </tr>\n",
       "    <tr>\n",
       "      <th>13</th>\n",
       "      <td>Great Recession</td>\n",
       "      <td>Dec 2007 – June 2009[48][49]</td>\n",
       "      <td>1 year6 months</td>\n",
       "      <td>6 years1 month</td>\n",
       "      <td>10.0%(October 2009)[50]</td>\n",
       "      <td>−5.1%[51]</td>\n",
       "      <td>The subprime mortgage crisis led to the collap...</td>\n",
       "    </tr>\n",
       "  </tbody>\n",
       "</table>\n",
       "</div>"
      ],
      "text/plain": [
       "                                          Name                         Dates  \\\n",
       "0                             Great Depression            Aug 1929 –Mar 1933   \n",
       "1                       Recession of 1937–1938           May 1937 –June 1938   \n",
       "2                            Recession of 1945                  Feb–Oct 1945   \n",
       "3                            Recession of 1949            Nov 1948 –Oct 1949   \n",
       "4                            Recession of 1953           July 1953 –May 1954   \n",
       "5                            Recession of 1958          Aug 1957 –April 1958   \n",
       "6                         Recession of 1960–61            Apr 1960 –Feb 1961   \n",
       "7                         Recession of 1969–70            Dec 1969 –Nov 1970   \n",
       "8                            1973–75 recession            Nov 1973 –Mar 1975   \n",
       "9                               1980 recession                 Jan–July 1980   \n",
       "10                       Early 1980s recession           July 1981 –Nov 1982   \n",
       "11  Early 1990s recession in the United States           July 1990 –Mar 1991   \n",
       "12                       Early 2000s recession           March 2001–Nov 2001   \n",
       "13                             Great Recession  Dec 2007 – June 2009[48][49]   \n",
       "\n",
       "   Duration (months) Time since previous recession (months)  \\\n",
       "0    3 years7 months                         1 year9 months   \n",
       "1      1 year1 month                        4 years2 months   \n",
       "2           8 months                        6 years8 months   \n",
       "3          11 months                         3 years1 month   \n",
       "4          10 months                        3 years9 months   \n",
       "5           8 months                        3 years3 months   \n",
       "6          10 months                                2 years   \n",
       "7          11 months                       8 years10 months   \n",
       "8     1 year4 months                                3 years   \n",
       "9           6 months                       4 years10 months   \n",
       "10    1 year4 months                                 1 year   \n",
       "11          8 months                        7 years8 months   \n",
       "12          8 months                               10 years   \n",
       "13    1 year6 months                         6 years1 month   \n",
       "\n",
       "         Peak unemploy­ment GDP decline (peak to trough)  \\\n",
       "0           24.9%[31](1933)                       −26.7%   \n",
       "1           19.0%[32](1938)                       −18.2%   \n",
       "2            5.2%[32](1946)                       −12.7%   \n",
       "3            7.9%(Oct 1949)                        −1.7%   \n",
       "4            6.1%(Sep 1954)                        −2.6%   \n",
       "5           7.5%(July 1958)                        −3.7%   \n",
       "6            7.1%(May 1961)                        −1.6%   \n",
       "7            6.1%(Dec 1970)                        −0.6%   \n",
       "8            9.0%(May 1975)                        −3.2%   \n",
       "9           7.8%(July 1980)                        −2.2%   \n",
       "10          10.8%(Nov 1982)                        −2.7%   \n",
       "11          7.8%(June 1992)                        −1.4%   \n",
       "12          6.3%(June 2003)                        −0.3%   \n",
       "13  10.0%(October 2009)[50]                    −5.1%[51]   \n",
       "\n",
       "                                      Characteristics  \n",
       "0   Stock markets crashed worldwide. A banking col...  \n",
       "1   The Recession of 1937 is only considered minor...  \n",
       "2   The decline in government spending at the end ...  \n",
       "3   The 1948 recession was a brief economic downtu...  \n",
       "4   After a post-Korean War inflationary period, m...  \n",
       "5   Monetary policy was tightened during the two y...  \n",
       "6   Another primarily monetary recession occurred ...  \n",
       "7   The relatively mild 1969 recession followed a ...  \n",
       "8   A quadrupling of oil prices by OPEC coupled wi...  \n",
       "9   The NBER considers a very short recession to h...  \n",
       "10  The Iranian Revolution sharply increased the p...  \n",
       "11  After the lengthy peacetime expansion of the 1...  \n",
       "12  The 1990s were the longest period of growth in...  \n",
       "13  The subprime mortgage crisis led to the collap...  "
      ]
     },
     "execution_count": 15,
     "metadata": {},
     "output_type": "execute_result"
    }
   ],
   "source": [
    "rec_raw = pd.read_csv('data_raw/List of Recessions.csv')\n",
    "rec_raw"
   ]
  },
  {
   "cell_type": "code",
   "execution_count": 72,
   "metadata": {
    "collapsed": false
   },
   "outputs": [
    {
     "data": {
      "text/html": [
       "<div>\n",
       "<table border=\"1\" class=\"dataframe\">\n",
       "  <thead>\n",
       "    <tr style=\"text-align: right;\">\n",
       "      <th></th>\n",
       "      <th>start_date</th>\n",
       "      <th>end_date</th>\n",
       "      <th>Duration</th>\n",
       "      <th>peak_unemployment</th>\n",
       "      <th>gdp_decline</th>\n",
       "      <th>Characteristics</th>\n",
       "    </tr>\n",
       "  </thead>\n",
       "  <tbody>\n",
       "    <tr>\n",
       "      <th>0</th>\n",
       "      <td>1980-01</td>\n",
       "      <td>1980-07</td>\n",
       "      <td>6.0</td>\n",
       "      <td>7.8</td>\n",
       "      <td>-2.2</td>\n",
       "      <td>The NBER considers a very short recession to h...</td>\n",
       "    </tr>\n",
       "    <tr>\n",
       "      <th>1</th>\n",
       "      <td>1981-07</td>\n",
       "      <td>1982-11</td>\n",
       "      <td>16.0</td>\n",
       "      <td>10.8</td>\n",
       "      <td>-2.7</td>\n",
       "      <td>The Iranian Revolution sharply increased the p...</td>\n",
       "    </tr>\n",
       "    <tr>\n",
       "      <th>2</th>\n",
       "      <td>1990-07</td>\n",
       "      <td>1991-03</td>\n",
       "      <td>8.0</td>\n",
       "      <td>7.8</td>\n",
       "      <td>-1.4</td>\n",
       "      <td>After the lengthy peacetime expansion of the 1...</td>\n",
       "    </tr>\n",
       "    <tr>\n",
       "      <th>3</th>\n",
       "      <td>2001-03</td>\n",
       "      <td>2001-12</td>\n",
       "      <td>8.0</td>\n",
       "      <td>6.3</td>\n",
       "      <td>-0.3</td>\n",
       "      <td>The 1990s were the longest period of growth in...</td>\n",
       "    </tr>\n",
       "    <tr>\n",
       "      <th>4</th>\n",
       "      <td>2007-12</td>\n",
       "      <td>2009-06</td>\n",
       "      <td>18.0</td>\n",
       "      <td>10.0</td>\n",
       "      <td>-5.1</td>\n",
       "      <td>The subprime mortgage crisis led to the collap...</td>\n",
       "    </tr>\n",
       "  </tbody>\n",
       "</table>\n",
       "</div>"
      ],
      "text/plain": [
       "  start_date end_date  Duration  peak_unemployment  gdp_decline  \\\n",
       "0    1980-01  1980-07       6.0                7.8         -2.2   \n",
       "1    1981-07  1982-11      16.0               10.8         -2.7   \n",
       "2    1990-07  1991-03       8.0                7.8         -1.4   \n",
       "3    2001-03  2001-12       8.0                6.3         -0.3   \n",
       "4    2007-12  2009-06      18.0               10.0         -5.1   \n",
       "\n",
       "                                     Characteristics  \n",
       "0  The NBER considers a very short recession to h...  \n",
       "1  The Iranian Revolution sharply increased the p...  \n",
       "2  After the lengthy peacetime expansion of the 1...  \n",
       "3  The 1990s were the longest period of growth in...  \n",
       "4  The subprime mortgage crisis led to the collap...  "
      ]
     },
     "execution_count": 72,
     "metadata": {},
     "output_type": "execute_result"
    }
   ],
   "source": [
    "rec.iloc[ 0, :] = ['1980-01', '1980-07', 6, 7.8, -2.2, rec_raw.Characteristics[9]]\n",
    "rec.iloc[ 1, :] = ['1981-07', '1982-11', 16, 10.8, -2.7, rec_raw.Characteristics[10]]\n",
    "rec.iloc[ 2, :] = ['1990-07', '1991-03', 8, 7.8, -1.4, rec_raw.Characteristics[11]]\n",
    "#rec.iloc[ 3, :] = ['2001-03', '2001-11', 8, 6.3, -0.3, rec_raw.Characteristics[12]]\n",
    "rec.iloc[ 3, :] = ['2001-03', '2001-12', 8, 6.3, -0.3, rec_raw.Characteristics[12]]\n",
    "rec.iloc[ 4, :] = ['2007-12', '2009-06', 18, 10.0, -5.1, rec_raw.Characteristics[13]]\n",
    "rec"
   ]
  },
  {
   "cell_type": "code",
   "execution_count": 73,
   "metadata": {
    "collapsed": true
   },
   "outputs": [],
   "source": [
    "rec.to_csv('data_cleaned/recession_circles.csv')"
   ]
  },
  {
   "cell_type": "code",
   "execution_count": 59,
   "metadata": {
    "collapsed": false
   },
   "outputs": [
    {
     "data": {
      "text/html": [
       "<div>\n",
       "<table border=\"1\" class=\"dataframe\">\n",
       "  <thead>\n",
       "    <tr style=\"text-align: right;\">\n",
       "      <th></th>\n",
       "      <th>start_date</th>\n",
       "      <th>end_date</th>\n",
       "      <th>Duration</th>\n",
       "      <th>rate_start</th>\n",
       "      <th>rate_end</th>\n",
       "      <th>base_points</th>\n",
       "      <th>Pace</th>\n",
       "    </tr>\n",
       "  </thead>\n",
       "  <tbody>\n",
       "    <tr>\n",
       "      <th>0</th>\n",
       "      <td>1983-05-02</td>\n",
       "      <td>1984-08-21</td>\n",
       "      <td>16.0</td>\n",
       "      <td>8.50</td>\n",
       "      <td>11.75</td>\n",
       "      <td>325.0</td>\n",
       "      <td>20.0</td>\n",
       "    </tr>\n",
       "    <tr>\n",
       "      <th>1</th>\n",
       "      <td>1986-12-16</td>\n",
       "      <td>1987-09-04</td>\n",
       "      <td>9.0</td>\n",
       "      <td>5.88</td>\n",
       "      <td>7.25</td>\n",
       "      <td>138.0</td>\n",
       "      <td>15.0</td>\n",
       "    </tr>\n",
       "    <tr>\n",
       "      <th>2</th>\n",
       "      <td>1988-03-29</td>\n",
       "      <td>1989-02-24</td>\n",
       "      <td>11.0</td>\n",
       "      <td>6.50</td>\n",
       "      <td>9.75</td>\n",
       "      <td>325.0</td>\n",
       "      <td>30.0</td>\n",
       "    </tr>\n",
       "    <tr>\n",
       "      <th>3</th>\n",
       "      <td>1994-02-04</td>\n",
       "      <td>1995-02-01</td>\n",
       "      <td>12.0</td>\n",
       "      <td>3.00</td>\n",
       "      <td>6.00</td>\n",
       "      <td>300.0</td>\n",
       "      <td>25.0</td>\n",
       "    </tr>\n",
       "    <tr>\n",
       "      <th>4</th>\n",
       "      <td>1999-06-30</td>\n",
       "      <td>2000-04-16</td>\n",
       "      <td>11.0</td>\n",
       "      <td>4.75</td>\n",
       "      <td>6.50</td>\n",
       "      <td>175.0</td>\n",
       "      <td>16.0</td>\n",
       "    </tr>\n",
       "    <tr>\n",
       "      <th>5</th>\n",
       "      <td>2004-06-30</td>\n",
       "      <td>2006-06-29</td>\n",
       "      <td>24.0</td>\n",
       "      <td>1.00</td>\n",
       "      <td>5.25</td>\n",
       "      <td>425.0</td>\n",
       "      <td>17.0</td>\n",
       "    </tr>\n",
       "  </tbody>\n",
       "</table>\n",
       "</div>"
      ],
      "text/plain": [
       "   start_date    end_date  Duration  rate_start  rate_end  base_points  Pace\n",
       "0  1983-05-02  1984-08-21      16.0        8.50     11.75        325.0  20.0\n",
       "1  1986-12-16  1987-09-04       9.0        5.88      7.25        138.0  15.0\n",
       "2  1988-03-29  1989-02-24      11.0        6.50      9.75        325.0  30.0\n",
       "3  1994-02-04  1995-02-01      12.0        3.00      6.00        300.0  25.0\n",
       "4  1999-06-30  2000-04-16      11.0        4.75      6.50        175.0  16.0\n",
       "5  2004-06-30  2006-06-29      24.0        1.00      5.25        425.0  17.0"
      ]
     },
     "execution_count": 59,
     "metadata": {},
     "output_type": "execute_result"
    }
   ],
   "source": [
    "df_cycle = pd.DataFrame(np.zeros((6, 7)), columns=['start_date', 'end_date', 'Duration', 'rate_start', 'rate_end', 'base_points', 'Pace'])\n",
    "df_cycle.iloc[ 0, :] = ['1983-05-02', '1984-08-21', 16, 8.5, 11.75, 325, 20]\n",
    "df_cycle.iloc[ 1, :] = ['1986-12-16', '1987-09-04', 9, 5.88, 7.25, 138, 15]\n",
    "df_cycle.iloc[ 2, :] = ['1988-03-29', '1989-02-24', 11, 6.5, 9.75, 325, 30]\n",
    "df_cycle.iloc[ 3, :] = ['1994-02-04', '1995-02-01', 12, 3, 6, 300, 25]\n",
    "#df_cycle.iloc[ 4, :] = ['1999-06-30', '2002-12-30', 11, 4.75, 6.5, 175, 16]\n",
    "df_cycle.iloc[ 4, :] = ['1999-06-30', '2000-04-16', 11, 4.75, 6.5, 175, 16]\n",
    "df_cycle.iloc[ 5, :] = ['2004-06-30', '2006-06-29', 24, 1.0, 5.25, 425, 17]\n",
    "df_cycle"
   ]
  },
  {
   "cell_type": "code",
   "execution_count": 4,
   "metadata": {
    "collapsed": false
   },
   "outputs": [],
   "source": [
    "df_cycle.to_csv('./data_cleaned/rate_hike_circles.csv')"
   ]
  },
  {
   "cell_type": "code",
   "execution_count": 67,
   "metadata": {
    "collapsed": false
   },
   "outputs": [
    {
     "data": {
      "text/html": [
       "<div>\n",
       "<table border=\"1\" class=\"dataframe\">\n",
       "  <thead>\n",
       "    <tr style=\"text-align: right;\">\n",
       "      <th></th>\n",
       "      <th>FEDFUNDS</th>\n",
       "    </tr>\n",
       "    <tr>\n",
       "      <th>DATE</th>\n",
       "      <th></th>\n",
       "    </tr>\n",
       "  </thead>\n",
       "  <tbody>\n",
       "    <tr>\n",
       "      <th>2016-11-01</th>\n",
       "      <td>0.41</td>\n",
       "    </tr>\n",
       "    <tr>\n",
       "      <th>2016-12-01</th>\n",
       "      <td>0.54</td>\n",
       "    </tr>\n",
       "    <tr>\n",
       "      <th>2017-01-01</th>\n",
       "      <td>0.65</td>\n",
       "    </tr>\n",
       "    <tr>\n",
       "      <th>2017-02-01</th>\n",
       "      <td>0.66</td>\n",
       "    </tr>\n",
       "    <tr>\n",
       "      <th>2017-03-01</th>\n",
       "      <td>0.66</td>\n",
       "    </tr>\n",
       "  </tbody>\n",
       "</table>\n",
       "</div>"
      ],
      "text/plain": [
       "            FEDFUNDS\n",
       "DATE                \n",
       "2016-11-01      0.41\n",
       "2016-12-01      0.54\n",
       "2017-01-01      0.65\n",
       "2017-02-01      0.66\n",
       "2017-03-01      0.66"
      ]
     },
     "execution_count": 67,
     "metadata": {},
     "output_type": "execute_result"
    }
   ],
   "source": [
    "fed_rate_raw = pd.read_csv('data_raw/EFFR.csv')\n",
    "fed_rate_raw.loc[len(fed_rate_raw)] = ['2017-03-01', 0.66]\n",
    "fed_rate_raw.DATE = pd.to_datetime(fed_rate_raw.DATE)\n",
    "fed_rate_raw.set_index(['DATE'], inplace=True)\n",
    "fed_rate_raw.tail()"
   ]
  },
  {
   "cell_type": "code",
   "execution_count": 68,
   "metadata": {
    "collapsed": true
   },
   "outputs": [],
   "source": [
    "fed_rate_raw.to_csv('data_cleaned/effr_cleaned.csv')"
   ]
  },
  {
   "cell_type": "code",
   "execution_count": 70,
   "metadata": {
    "collapsed": false,
    "scrolled": true
   },
   "outputs": [
    {
     "data": {
      "text/html": [
       "<div>\n",
       "<table border=\"1\" class=\"dataframe\">\n",
       "  <thead>\n",
       "    <tr style=\"text-align: right;\">\n",
       "      <th></th>\n",
       "      <th>GDP</th>\n",
       "    </tr>\n",
       "    <tr>\n",
       "      <th>DATE</th>\n",
       "      <th></th>\n",
       "    </tr>\n",
       "  </thead>\n",
       "  <tbody>\n",
       "    <tr>\n",
       "      <th>2015-10-01</th>\n",
       "      <td>16490.7</td>\n",
       "    </tr>\n",
       "    <tr>\n",
       "      <th>2016-01-01</th>\n",
       "      <td>16525.0</td>\n",
       "    </tr>\n",
       "    <tr>\n",
       "      <th>2016-04-01</th>\n",
       "      <td>16583.1</td>\n",
       "    </tr>\n",
       "    <tr>\n",
       "      <th>2016-07-01</th>\n",
       "      <td>16727.0</td>\n",
       "    </tr>\n",
       "    <tr>\n",
       "      <th>2016-10-01</th>\n",
       "      <td>16804.1</td>\n",
       "    </tr>\n",
       "  </tbody>\n",
       "</table>\n",
       "</div>"
      ],
      "text/plain": [
       "                GDP\n",
       "DATE               \n",
       "2015-10-01  16490.7\n",
       "2016-01-01  16525.0\n",
       "2016-04-01  16583.1\n",
       "2016-07-01  16727.0\n",
       "2016-10-01  16804.1"
      ]
     },
     "execution_count": 70,
     "metadata": {},
     "output_type": "execute_result"
    }
   ],
   "source": [
    "gdp_raw = pd.read_csv('data_raw/gdp_real.csv')\n",
    "#gdp_raw = pd.read_csv('data/gdp_real_rate.csv')\n",
    "gdp_raw.columns = ['DATE', 'GDP']\n",
    "gdp_raw.DATE = pd.to_datetime(gdp_raw.DATE)\n",
    "gdp_raw.set_index(['DATE'], inplace=True)\n",
    "gdp_raw.tail()"
   ]
  },
  {
   "cell_type": "code",
   "execution_count": 71,
   "metadata": {
    "collapsed": true
   },
   "outputs": [],
   "source": [
    "gdp_raw.to_csv('data_cleaned/real_gdp_index.csv')"
   ]
  },
  {
   "cell_type": "code",
   "execution_count": 21,
   "metadata": {
    "collapsed": false
   },
   "outputs": [],
   "source": [
    "mark_1 = fed_rate_raw[fed_rate_raw.DATE == '1978-01-01'].index[0]\n",
    "mark_2 = gdp_raw[gdp_raw.DATE == '1978-01-01'].index[0]\n",
    "df_plot = fed_rate_raw.iloc[mark_1:, :]\n",
    "gdp_plot = gdp_raw.iloc[mark_2:, :]"
   ]
  },
  {
   "cell_type": "code",
   "execution_count": 22,
   "metadata": {
    "collapsed": true
   },
   "outputs": [],
   "source": [
    "sp500_raw = q.get('YAHOO/INDEX_GSPC')\n",
    "vix_raw = q.get('YAHOO/INDEX_VIX', collapse='monthly')\n",
    "dji_raw = q.get('YAHOO/INDEX_DJI')"
   ]
  },
  {
   "cell_type": "code",
   "execution_count": 36,
   "metadata": {
    "collapsed": false
   },
   "outputs": [
    {
     "data": {
      "text/html": [
       "<div>\n",
       "<table border=\"1\" class=\"dataframe\">\n",
       "  <thead>\n",
       "    <tr style=\"text-align: right;\">\n",
       "      <th></th>\n",
       "      <th>Open</th>\n",
       "      <th>High</th>\n",
       "      <th>Low</th>\n",
       "      <th>Close</th>\n",
       "      <th>Volume</th>\n",
       "      <th>Adjusted Close</th>\n",
       "    </tr>\n",
       "    <tr>\n",
       "      <th>Date</th>\n",
       "      <th></th>\n",
       "      <th></th>\n",
       "      <th></th>\n",
       "      <th></th>\n",
       "      <th></th>\n",
       "      <th></th>\n",
       "    </tr>\n",
       "  </thead>\n",
       "  <tbody>\n",
       "    <tr>\n",
       "      <th>1990-01-31</th>\n",
       "      <td>25.360001</td>\n",
       "      <td>25.360001</td>\n",
       "      <td>25.360001</td>\n",
       "      <td>25.360001</td>\n",
       "      <td>0.0</td>\n",
       "      <td>25.360001</td>\n",
       "    </tr>\n",
       "    <tr>\n",
       "      <th>1990-02-28</th>\n",
       "      <td>21.990000</td>\n",
       "      <td>21.990000</td>\n",
       "      <td>21.990000</td>\n",
       "      <td>21.990000</td>\n",
       "      <td>0.0</td>\n",
       "      <td>21.990000</td>\n",
       "    </tr>\n",
       "    <tr>\n",
       "      <th>1990-03-31</th>\n",
       "      <td>19.730000</td>\n",
       "      <td>19.730000</td>\n",
       "      <td>19.730000</td>\n",
       "      <td>19.730000</td>\n",
       "      <td>0.0</td>\n",
       "      <td>19.730000</td>\n",
       "    </tr>\n",
       "  </tbody>\n",
       "</table>\n",
       "</div>"
      ],
      "text/plain": [
       "                 Open       High        Low      Close  Volume  Adjusted Close\n",
       "Date                                                                          \n",
       "1990-01-31  25.360001  25.360001  25.360001  25.360001     0.0       25.360001\n",
       "1990-02-28  21.990000  21.990000  21.990000  21.990000     0.0       21.990000\n",
       "1990-03-31  19.730000  19.730000  19.730000  19.730000     0.0       19.730000"
      ]
     },
     "execution_count": 36,
     "metadata": {},
     "output_type": "execute_result"
    }
   ],
   "source": [
    "mask_1 = (sp500_raw.index >= '1978-01-03')\n",
    "sp500 = sp500_raw[mask_1]\n",
    "vix = vix_raw[vix_raw.index >= '1978-01-03']\n",
    "dji = dji_raw[dji_raw.index >= '1978-01-03']\n",
    "vix.head(3)"
   ]
  },
  {
   "cell_type": "code",
   "execution_count": 42,
   "metadata": {
    "collapsed": false
   },
   "outputs": [
    {
     "data": {
      "text/html": [
       "<div>\n",
       "<table border=\"1\" class=\"dataframe\">\n",
       "  <thead>\n",
       "    <tr style=\"text-align: right;\">\n",
       "      <th></th>\n",
       "      <th>Open</th>\n",
       "      <th>High</th>\n",
       "      <th>Low</th>\n",
       "      <th>Close</th>\n",
       "      <th>Volume</th>\n",
       "      <th>OpenInt</th>\n",
       "    </tr>\n",
       "  </thead>\n",
       "  <tbody>\n",
       "    <tr>\n",
       "      <th>1978-01-31</th>\n",
       "      <td>95.21</td>\n",
       "      <td>97.87</td>\n",
       "      <td>94.99</td>\n",
       "      <td>96.64</td>\n",
       "      <td>NaN</td>\n",
       "      <td>NaN</td>\n",
       "    </tr>\n",
       "    <tr>\n",
       "      <th>1978-02-28</th>\n",
       "      <td>96.81</td>\n",
       "      <td>97.10</td>\n",
       "      <td>94.57</td>\n",
       "      <td>94.60</td>\n",
       "      <td>NaN</td>\n",
       "      <td>NaN</td>\n",
       "    </tr>\n",
       "    <tr>\n",
       "      <th>1978-03-31</th>\n",
       "      <td>94.56</td>\n",
       "      <td>96.10</td>\n",
       "      <td>93.84</td>\n",
       "      <td>93.84</td>\n",
       "      <td>NaN</td>\n",
       "      <td>NaN</td>\n",
       "    </tr>\n",
       "  </tbody>\n",
       "</table>\n",
       "</div>"
      ],
      "text/plain": [
       "             Open   High    Low  Close  Volume  OpenInt\n",
       "1978-01-31  95.21  97.87  94.99  96.64     NaN      NaN\n",
       "1978-02-28  96.81  97.10  94.57  94.60     NaN      NaN\n",
       "1978-03-31  94.56  96.10  93.84  93.84     NaN      NaN"
      ]
     },
     "execution_count": 42,
     "metadata": {},
     "output_type": "execute_result"
    }
   ],
   "source": [
    "dx_raw = pd.read_csv('data_raw/dx_f_m.csv', index_col=0)\n",
    "dx_raw.index = dx_raw.index.to_datetime()\n",
    "mask_4 = (dx_raw.index >= '1978-01-03')\n",
    "dx = dx_raw[mask_4]\n",
    "dx.head(3)"
   ]
  },
  {
   "cell_type": "code",
   "execution_count": 49,
   "metadata": {
    "collapsed": false
   },
   "outputs": [
    {
     "data": {
      "text/html": [
       "<div>\n",
       "<table border=\"1\" class=\"dataframe\">\n",
       "  <thead>\n",
       "    <tr style=\"text-align: right;\">\n",
       "      <th></th>\n",
       "      <th>Open</th>\n",
       "      <th>High</th>\n",
       "      <th>Low</th>\n",
       "      <th>Close</th>\n",
       "      <th>Volume</th>\n",
       "      <th>OpenInt</th>\n",
       "    </tr>\n",
       "  </thead>\n",
       "  <tbody>\n",
       "    <tr>\n",
       "      <th>1978-01-31</th>\n",
       "      <td>169.9</td>\n",
       "      <td>183.7</td>\n",
       "      <td>165.5</td>\n",
       "      <td>181.5</td>\n",
       "      <td>NaN</td>\n",
       "      <td>NaN</td>\n",
       "    </tr>\n",
       "    <tr>\n",
       "      <th>1978-02-28</th>\n",
       "      <td>181.9</td>\n",
       "      <td>188.5</td>\n",
       "      <td>176.0</td>\n",
       "      <td>187.1</td>\n",
       "      <td>NaN</td>\n",
       "      <td>NaN</td>\n",
       "    </tr>\n",
       "    <tr>\n",
       "      <th>1978-03-31</th>\n",
       "      <td>187.5</td>\n",
       "      <td>195.7</td>\n",
       "      <td>178.1</td>\n",
       "      <td>186.2</td>\n",
       "      <td>NaN</td>\n",
       "      <td>NaN</td>\n",
       "    </tr>\n",
       "  </tbody>\n",
       "</table>\n",
       "</div>"
      ],
      "text/plain": [
       "             Open   High    Low  Close  Volume  OpenInt\n",
       "1978-01-31  169.9  183.7  165.5  181.5     NaN      NaN\n",
       "1978-02-28  181.9  188.5  176.0  187.1     NaN      NaN\n",
       "1978-03-31  187.5  195.7  178.1  186.2     NaN      NaN"
      ]
     },
     "execution_count": 49,
     "metadata": {},
     "output_type": "execute_result"
    }
   ],
   "source": [
    "gd_raw = pd.read_csv('data_raw/gc_f_m.csv', index_col=0)\n",
    "gd_raw.index = gd_raw.index.to_datetime()\n",
    "mask_4 = (gd_raw.index >= '1978-01-03')\n",
    "gd = gd_raw[mask_4]\n",
    "gd.head(3)"
   ]
  },
  {
   "cell_type": "code",
   "execution_count": 63,
   "metadata": {
    "collapsed": false
   },
   "outputs": [
    {
     "data": {
      "text/plain": [
       "[<matplotlib.lines.Line2D at 0x11d629490>]"
      ]
     },
     "execution_count": 63,
     "metadata": {},
     "output_type": "execute_result"
    },
    {
     "data": {
      "image/png": "[encoded data removed]",
      "text/plain": [
       "<matplotlib.figure.Figure at 0x11e3749d0>"
      ]
     },
     "metadata": {},
     "output_type": "display_data"
    }
   ],
   "source": [
    "fig, ax1 = plt.subplots()\n",
    "fig.set_size_inches(16, 8)\n",
    "ax1.plot(df_plot.DATE, df_plot.FEDFUNDS)\n",
    "plt.xlabel('year')\n",
    "plt.ylabel('Fed Rate')\n",
    "for i in xrange(6):\n",
    "    ax1.axvspan(df_cycle.iloc[i, 0], df_cycle.iloc[i, 1], alpha=0.3, color='red')\n",
    "    if i < 5:\n",
    "        ax1.axvspan(rec.iloc[i, 0], rec.iloc[i, 1], alpha=0.1, color='grey')\n",
    "ax2 = ax1.twinx()\n",
    "#ax2.plot(sp500.index, sp500['Adjusted Close'], 'r')\n",
    "#ax2.plot(dji.index, dji['Adjusted Close'], 'r')    \n",
    "#ax2.plot(vix.index, vix['Adjusted Close'], 'r')\n",
    "#ax2.plot(dx.index, dx['Close'], 'r')\n",
    "#ax2.plot(gd.index, gd['Close'], 'r')\n",
    "\n",
    "#ax2.plot(gdp_plot.DATE, gdp_plot.GDP, 'r')    \n",
    "#py.iplot_mpl(fig, filename='fed_rates_hike')"
   ]
  },
  {
   "cell_type": "code",
   "execution_count": null,
   "metadata": {
    "collapsed": true
   },
   "outputs": [],
   "source": [
    "m1 = \n",
    "m2 = \n",
    "unemployment = "
   ]
  }
 ],
 "metadata": {
  "anaconda-cloud": {},
  "kernelspec": {
   "display_name": "Python [default]",
   "language": "python",
   "name": "python2"
  },
  "language_info": {
   "codemirror_mode": {
    "name": "ipython",
    "version": 2
   },
   "file_extension": ".py",
   "mimetype": "text/x-python",
   "name": "python",
   "nbconvert_exporter": "python",
   "pygments_lexer": "ipython2",
   "version": "2.7.12"
  }
 },
 "nbformat": 4,
 "nbformat_minor": 1
}
